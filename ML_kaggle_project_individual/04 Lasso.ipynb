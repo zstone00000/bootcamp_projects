{
 "cells": [
  {
   "cell_type": "code",
   "execution_count": 1,
   "id": "c82f8981-f422-44cb-a612-37c099f3fcd8",
   "metadata": {},
   "outputs": [],
   "source": [
    "import pandas as pd\n",
    "import numpy as np\n",
    "from matplotlib import pyplot as plt\n",
    "import seaborn as sns\n",
    "from ames_preprocessing import restrict_col_list, get_compressed_ames, transformed_df\n",
    "from ames_model_helper import * "
   ]
  },
  {
   "cell_type": "code",
   "execution_count": 2,
   "id": "0ca8d254-0ab7-47bd-90bd-79189d5b0f8f",
   "metadata": {},
   "outputs": [],
   "source": [
    "from sklearn.preprocessing import OneHotEncoder, StandardScaler\n",
    "from sklearn.pipeline import Pipeline, FeatureUnion\n",
    "from sklearn.compose import ColumnTransformer, make_column_selector\n",
    "from sklearn.metrics import r2_score, mean_squared_error\n",
    "from sklearn.linear_model import Lasso\n",
    "from sklearn.model_selection import cross_val_score, train_test_split, KFold, GridSearchCV, RandomizedSearchCV"
   ]
  },
  {
   "cell_type": "code",
   "execution_count": 3,
   "id": "bbe315d5-1e6e-4f54-843b-b52b8f337b83",
   "metadata": {},
   "outputs": [],
   "source": [
    "data = pd.read_csv('data/Ames_Housing_Price_Data.csv', index_col = 0).drop_duplicates().reset_index(drop = True)"
   ]
  },
  {
   "cell_type": "markdown",
   "id": "dce7ca42-3274-479f-8b04-ae1086d97a60",
   "metadata": {},
   "source": [
    "## Manual adjustments"
   ]
  },
  {
   "cell_type": "code",
   "execution_count": 4,
   "id": "0bedc51d-cb25-47fd-88a7-c65c56fc02cf",
   "metadata": {},
   "outputs": [],
   "source": [
    "housing = data.copy()\n",
    "\n",
    "#Do not appear to be legit garages; remove\n",
    "housing.at[531,'GarageType'] = np.nan\n",
    "housing.at[531,'GarageCars'] = np.nan\n",
    "housing.at[531,'GarageArea'] = 0\n",
    "housing.at[433, 'GarageType'] = np.nan\n",
    "\n",
    "#Fill using known basement finish type\n",
    "housing.at[2433, 'BsmtFinType2'] = housing.at[2433, 'BsmtFinType1']\n",
    "\n",
    "#Fill missing exposure & electrical with most frequently occuring\n",
    "housing.at[813, 'BsmtExposure'] = 'No'\n",
    "housing.at[1201, 'BsmtExposure'] = 'No'\n",
    "housing.at[2441, 'Electrical'] = 'SBrkr'\n",
    "\n",
    "#Fix remodel year which makes no sense\n",
    "housing.at[2033, 'YearRemodAdd'] = housing.at[2033, 'YearBuilt']"
   ]
  },
  {
   "cell_type": "markdown",
   "id": "64e435a7-08d5-4d76-8027-a4320d6c908f",
   "metadata": {},
   "source": [
    "## Create cleaned/compressed dataset & feature lists"
   ]
  },
  {
   "cell_type": "code",
   "execution_count": 5,
   "id": "f658a2d3-490b-4bb4-839a-22741025a377",
   "metadata": {},
   "outputs": [],
   "source": [
    "data_dict = get_compressed_ames(housing)"
   ]
  },
  {
   "cell_type": "code",
   "execution_count": 6,
   "id": "c32144ff-611d-45ee-96f3-287359f217a5",
   "metadata": {},
   "outputs": [],
   "source": [
    "housing = data_dict['housing']\n",
    "areas = data_dict['areas']\n",
    "frontage = data_dict['frontage']\n",
    "miscval = data_dict['miscval']\n",
    "conditions = data_dict['conditions']\n",
    "inspect10pt = data_dict['inspect10pt']\n",
    "inspect5pt = data_dict['inspect5pt']\n",
    "inspections = data_dict['inspections']\n",
    "dates = data_dict['dates']\n",
    "counts = data_dict['counts']\n",
    "other_cats = data_dict['categoricals']"
   ]
  },
  {
   "cell_type": "code",
   "execution_count": 7,
   "id": "a4495b64-2f7a-4551-b071-2f54573e8caf",
   "metadata": {},
   "outputs": [],
   "source": [
    "housing['remod_age'] = housing['YrSold'] - housing['YearRemodAdd']\n",
    "housing.drop('YearRemodAdd', axis = 1, inplace = True)\n",
    "dates = restrict_col_list(dates, housing)\n",
    "dates.append('remod_age')"
   ]
  },
  {
   "cell_type": "code",
   "execution_count": 8,
   "id": "de2949c7-1bd4-4134-895e-7a78bf892682",
   "metadata": {},
   "outputs": [],
   "source": [
    "categoricals = other_cats+conditions+inspections\n",
    "numeric = [x for x in housing.columns if x not in categoricals+['PID', 'SalePrice']]\n",
    "assert set(housing[numeric].select_dtypes(include=np.number).columns) == set(numeric)"
   ]
  },
  {
   "cell_type": "markdown",
   "id": "c2f6449e-01ba-439f-8c13-186fbef79195",
   "metadata": {},
   "source": [
    "# Create training and test sets"
   ]
  },
  {
   "cell_type": "code",
   "execution_count": 9,
   "id": "832ead1b-5d55-483a-a6bb-fa86d48a1606",
   "metadata": {},
   "outputs": [],
   "source": [
    "features = housing.drop(['PID', 'SalePrice'], axis = 1)\n",
    "target = housing.SalePrice\n",
    "\n",
    "#Create train/test indices\n",
    "X_train, X_test, y_train, y_test = train_test_split(features, target, test_size = .3, random_state = 11)\n",
    "train_idx = X_train.index\n",
    "test_idx = X_test.index"
   ]
  },
  {
   "cell_type": "markdown",
   "id": "7366d84b-d742-49c9-a837-f5651ce85c9b",
   "metadata": {
    "tags": []
   },
   "source": [
    "# Dummifying"
   ]
  },
  {
   "cell_type": "code",
   "execution_count": 10,
   "id": "782cd545-f111-470f-ad88-e1670a1ab611",
   "metadata": {},
   "outputs": [],
   "source": [
    "ohe = ColumnTransformer([\n",
    "    #pass a list of column names which you want to pass through unaltered\n",
    "    #The second coordinate is usually a transformer, but the keyword 'passthrough'\n",
    "    #Just passes those columns instead.\n",
    "    ('pass', 'passthrough', numeric),\n",
    "    \n",
    "    #pass a list of columns which you want to be OHE\n",
    "    ('ohe', OneHotEncoder(drop = 'first', sparse = False), categoricals)\n",
    "])\n",
    "\n",
    "features_dummied = transformed_df(ohe,features)\n",
    "\n",
    "X_train_dum = features_dummied.loc[train_idx,:]\n",
    "X_test_dum = features_dummied.loc[test_idx,:]"
   ]
  },
  {
   "cell_type": "markdown",
   "id": "3fb51a0e-3d6a-4523-9831-ef8228d3f4fe",
   "metadata": {},
   "source": [
    "# Tune Lasso - All features"
   ]
  },
  {
   "cell_type": "markdown",
   "id": "1aa54a63-19da-4cfe-b0a6-096ba60aff9b",
   "metadata": {},
   "source": [
    "## Scaling all features"
   ]
  },
  {
   "cell_type": "code",
   "execution_count": 11,
   "id": "19b69625-545e-45fc-840b-3397c68df821",
   "metadata": {
    "tags": []
   },
   "outputs": [],
   "source": [
    "# pipe = Pipeline([\n",
    "#     ('standardize', StandardScaler()),\n",
    "#     ('lasso', Lasso(tol = .04))\n",
    "# ])\n",
    "# gslasso = GridSearchCV(pipe, param_grid = {'lasso__alpha': 10.0 ** np.arange(-5,5)}, cv = 5, n_jobs = -1)\n",
    "# gslasso.fit(X_train_dum,y_train)\n",
    "# best_lasso = gslasso.best_estimator_"
   ]
  },
  {
   "cell_type": "code",
   "execution_count": 12,
   "id": "8865e8f3-4cfb-4a9c-b36c-ce5442a6f536",
   "metadata": {},
   "outputs": [],
   "source": [
    "# print(f'The best CV score was {gslasso.best_score_} using parameters {gslasso.best_params_}')"
   ]
  },
  {
   "cell_type": "code",
   "execution_count": 13,
   "id": "e2ef8de0-20ab-46d7-aab9-fa98d29c501e",
   "metadata": {},
   "outputs": [],
   "source": [
    "# pipe = Pipeline([\n",
    "#     ('standardize', StandardScaler()),\n",
    "#     ('lasso', Lasso())\n",
    "# ])\n",
    "# gslasso = GridSearchCV(pipe, param_grid = {'lasso__alpha':  np.arange(0,10000,1000)[1:]}, cv = 5, n_jobs = -1)\n",
    "# gslasso.fit(X_train_dum,y_train)\n",
    "# best_lasso = gslasso.best_estimator_"
   ]
  },
  {
   "cell_type": "code",
   "execution_count": 14,
   "id": "5da22830-b19c-49e0-aefb-d5d0dbe069de",
   "metadata": {},
   "outputs": [],
   "source": [
    "# print(f'The best CV score was {gslasso.best_score_} using parameters {gslasso.best_params_}')"
   ]
  },
  {
   "cell_type": "code",
   "execution_count": 15,
   "id": "55129660-6050-458f-9ce9-f3965a87a572",
   "metadata": {},
   "outputs": [],
   "source": [
    "# pipe = Pipeline([\n",
    "#     ('standardize', StandardScaler()),\n",
    "#     ('lasso', Lasso())\n",
    "# ])\n",
    "# gslasso = GridSearchCV(pipe, param_grid = {'lasso__alpha':  np.arange(0,2000,100)[1:]}, cv = 5, n_jobs = -1)\n",
    "# gslasso.fit(X_train_dum,y_train)\n",
    "# best_lasso = gslasso.best_estimator_"
   ]
  },
  {
   "cell_type": "code",
   "execution_count": 16,
   "id": "1cdbbf11-2abb-4602-8eeb-4ea8b24f53b6",
   "metadata": {},
   "outputs": [],
   "source": [
    "# print(f'The best CV score was {gslasso.best_score_} using parameters {gslasso.best_params_}')"
   ]
  },
  {
   "cell_type": "code",
   "execution_count": 17,
   "id": "1983b04e-fa35-470b-927d-6be890458524",
   "metadata": {},
   "outputs": [],
   "source": [
    "# pipe = Pipeline([\n",
    "#     ('standardize', StandardScaler()),\n",
    "#     ('lasso', Lasso())\n",
    "# ])\n",
    "# gslasso = GridSearchCV(pipe, param_grid = {'lasso__alpha':  np.arange(500,700,10)}, cv = 5, n_jobs = -1)\n",
    "# gslasso.fit(X_train_dum,y_train)\n",
    "# best_lasso = gslasso.best_estimator_"
   ]
  },
  {
   "cell_type": "code",
   "execution_count": 18,
   "id": "6475de54-aa25-4331-b68e-16fa4750d3a5",
   "metadata": {},
   "outputs": [],
   "source": [
    "# print(f'The best CV score was {gslasso.best_score_} using parameters {gslasso.best_params_}')"
   ]
  },
  {
   "cell_type": "code",
   "execution_count": 19,
   "id": "d77b9257-dd2e-4d77-98e2-eb612b3119fa",
   "metadata": {},
   "outputs": [],
   "source": [
    "pipe = Pipeline([\n",
    "    ('standardize', StandardScaler()),\n",
    "    ('lasso', Lasso())\n",
    "])\n",
    "gslasso = GridSearchCV(pipe, param_grid = {'lasso__alpha':  np.arange(530,550)}, cv = 5, n_jobs = -1)\n",
    "gslasso.fit(X_train_dum,y_train)\n",
    "best_lasso = gslasso.best_estimator_"
   ]
  },
  {
   "cell_type": "code",
   "execution_count": 20,
   "id": "d59143af-e38a-4ddc-badf-7eb6dbdd2965",
   "metadata": {},
   "outputs": [
    {
     "name": "stdout",
     "output_type": "stream",
     "text": [
      "The best CV score was 0.8823509233540285 using parameters {'lasso__alpha': 546}\n"
     ]
    }
   ],
   "source": [
    "print(f'The best CV score was {gslasso.best_score_} using parameters {gslasso.best_params_}')"
   ]
  },
  {
   "cell_type": "markdown",
   "id": "52e790f6-6040-4eab-ace7-564cd3bac651",
   "metadata": {},
   "source": [
    "The best CV score was 0.8823509233540285 using parameters {'lasso__alpha': 546}"
   ]
  },
  {
   "cell_type": "markdown",
   "id": "be53dd25-901c-4ef5-901f-a13f830e94ee",
   "metadata": {},
   "source": [
    "### Evaluate"
   ]
  },
  {
   "cell_type": "code",
   "execution_count": 21,
   "id": "8c4290d1-f5fd-4be0-84d8-225ac08a9a60",
   "metadata": {},
   "outputs": [
    {
     "name": "stdout",
     "output_type": "stream",
     "text": [
      "Train score: 0.9245081312145583\n",
      "Test score: 0.9184912945610205\n"
     ]
    }
   ],
   "source": [
    "best_lasso.fit(X_train_dum,y_train)\n",
    "print('Train score: %s' %best_lasso.score(X_train_dum,y_train))\n",
    "print('Test score: %s' %best_lasso.score(X_test_dum,y_test))"
   ]
  },
  {
   "cell_type": "code",
   "execution_count": 22,
   "id": "6ce92a56-ef7a-4c3d-bfc7-bf0a47f04aab",
   "metadata": {},
   "outputs": [
    {
     "name": "stdout",
     "output_type": "stream",
     "text": [
      "Average validation score: 0.8823509233540285\n"
     ]
    }
   ],
   "source": [
    "print('Average validation score: %s' \\\n",
    "      % np.mean(cross_val_score(best_lasso, X_train_dum, y_train, \n",
    "                                cv = 5)))"
   ]
  },
  {
   "cell_type": "markdown",
   "id": "403fbd03-aa2f-49c8-9dca-4695b7a9fa32",
   "metadata": {},
   "source": [
    "Does marginally better than interpretable model."
   ]
  },
  {
   "cell_type": "markdown",
   "id": "13c38268-fbe5-4316-97af-5f1176c21ff8",
   "metadata": {},
   "source": [
    "## Scaling numerics only"
   ]
  },
  {
   "cell_type": "code",
   "execution_count": 23,
   "id": "8e3a2034-2085-46d7-85fc-68ad0958943f",
   "metadata": {},
   "outputs": [
    {
     "data": {
      "text/plain": [
       "0.8747589330330641"
      ]
     },
     "execution_count": 23,
     "metadata": {},
     "output_type": "execute_result"
    }
   ],
   "source": [
    "scaler = ColumnTransformer([\n",
    "    ('standardizer', StandardScaler(), numeric),\n",
    "    ('dummies', 'passthrough', [col for col in features_dummied if col not in numeric])\n",
    "])\n",
    "\n",
    "pipe = Pipeline([\n",
    "    ('standardize', scaler),\n",
    "    ('lasso', Lasso(tol = .02))\n",
    "])\n",
    "\n",
    "np.mean(cross_val_score(pipe, X_train_dum, y_train, cv = 5))"
   ]
  },
  {
   "cell_type": "code",
   "execution_count": 24,
   "id": "98403488-e69b-46bf-b558-68816b42a65a",
   "metadata": {},
   "outputs": [],
   "source": [
    "# pipe = Pipeline([\n",
    "#     ('standardize', scaler),\n",
    "#     ('lasso', Lasso(tol = .04))\n",
    "# ])\n",
    "# gslasso = GridSearchCV(pipe, param_grid = {'lasso__alpha': 10.0 ** np.arange(-5,5)}, cv = 5, n_jobs = -1)\n",
    "# gslasso.fit(X_train_dum,y_train)\n",
    "# best_lasso = gslasso.best_estimator_"
   ]
  },
  {
   "cell_type": "code",
   "execution_count": 25,
   "id": "bb4d1e77-fc21-415d-b819-725f0071fe14",
   "metadata": {},
   "outputs": [],
   "source": [
    "# print(f'The best CV score was {gslasso.best_score_} using parameters {gslasso.best_params_}')"
   ]
  },
  {
   "cell_type": "code",
   "execution_count": 26,
   "id": "f9987e0f-9805-41df-8876-f1ca834eff3c",
   "metadata": {},
   "outputs": [],
   "source": [
    "# pipe = Pipeline([\n",
    "#     ('standardize', scaler),\n",
    "#     ('lasso', Lasso())\n",
    "# ])\n",
    "# gslasso = GridSearchCV(pipe, param_grid = {'lasso__alpha': np.arange(0,2000,100)[1:]}, cv = 5, n_jobs = -1)\n",
    "# gslasso.fit(X_train_dum,y_train)\n",
    "# best_lasso = gslasso.best_estimator_"
   ]
  },
  {
   "cell_type": "code",
   "execution_count": 27,
   "id": "9f58e5ff-da65-4d10-821e-c85a00a930ed",
   "metadata": {},
   "outputs": [],
   "source": [
    "# print(f'The best CV score was {gslasso.best_score_} using parameters {gslasso.best_params_}')"
   ]
  },
  {
   "cell_type": "code",
   "execution_count": 28,
   "id": "8f55f1f4-921a-4af9-a1a3-eecb08f4df43",
   "metadata": {},
   "outputs": [],
   "source": [
    "# pipe = Pipeline([\n",
    "#     ('standardize', scaler),\n",
    "#     ('lasso', Lasso())\n",
    "# ])\n",
    "# gslasso = GridSearchCV(pipe, param_grid = {'lasso__alpha': np.arange(0,200,10)[1:]}, cv = 5, n_jobs = -1)\n",
    "# gslasso.fit(X_train_dum,y_train)\n",
    "# best_lasso = gslasso.best_estimator_"
   ]
  },
  {
   "cell_type": "code",
   "execution_count": 29,
   "id": "78913a68-1a13-4960-a18d-e05bb6ed072c",
   "metadata": {},
   "outputs": [],
   "source": [
    "# print(f'The best CV score was {gslasso.best_score_} using parameters {gslasso.best_params_}')"
   ]
  },
  {
   "cell_type": "code",
   "execution_count": 30,
   "id": "a58c8cda-e5bb-4a71-ad38-86ff70f58ccf",
   "metadata": {},
   "outputs": [],
   "source": [
    "# pipe = Pipeline([\n",
    "#     ('standardize', scaler),\n",
    "#     ('lasso', Lasso())\n",
    "# ])\n",
    "# gslasso = GridSearchCV(pipe, param_grid = {'lasso__alpha': np.arange(90,110)}, cv = 5, n_jobs = -1)\n",
    "# gslasso.fit(X_train_dum,y_train)\n",
    "# best_lasso = gslasso.best_estimator_"
   ]
  },
  {
   "cell_type": "code",
   "execution_count": 31,
   "id": "e5889574-6b95-4f6e-93ad-a698b6ada3cb",
   "metadata": {},
   "outputs": [],
   "source": [
    "# print(f'The best CV score was {gslasso.best_score_} using parameters {gslasso.best_params_}')"
   ]
  },
  {
   "cell_type": "code",
   "execution_count": 32,
   "id": "aa53a759-c1c2-4659-8a70-90e237a2f7b2",
   "metadata": {},
   "outputs": [],
   "source": [
    "pipe = Pipeline([\n",
    "    ('standardize', scaler),\n",
    "    ('lasso', Lasso())\n",
    "])\n",
    "gslasso = GridSearchCV(pipe, param_grid = {'lasso__alpha': np.arange(103,104, .1)}, cv = 5, n_jobs = -1)\n",
    "gslasso.fit(X_train_dum,y_train)\n",
    "best_lasso = gslasso.best_estimator_"
   ]
  },
  {
   "cell_type": "code",
   "execution_count": 33,
   "id": "ad235e76-b45e-4c78-8c7c-99e1331f84f4",
   "metadata": {},
   "outputs": [
    {
     "name": "stdout",
     "output_type": "stream",
     "text": [
      "The best CV score was 0.8873808435652254 using parameters {'lasso__alpha': 103.79999999999995}\n"
     ]
    }
   ],
   "source": [
    "print(f'The best CV score was {gslasso.best_score_} using parameters {gslasso.best_params_}')"
   ]
  },
  {
   "cell_type": "markdown",
   "id": "639c550b-eeac-4833-b38f-a77e004fb21c",
   "metadata": {},
   "source": [
    "The best CV score was 0.8873808435652254 using parameters {'lasso__alpha': 103.79999999999995}"
   ]
  },
  {
   "cell_type": "markdown",
   "id": "988552c8-c999-4cbc-b4ef-745c955c62ba",
   "metadata": {},
   "source": [
    "### Evaluate model"
   ]
  },
  {
   "cell_type": "code",
   "execution_count": 34,
   "id": "0696e6cf-3ccc-476c-acae-a704d65bb554",
   "metadata": {},
   "outputs": [
    {
     "name": "stdout",
     "output_type": "stream",
     "text": [
      "Train score: 0.9197361493180649\n",
      "Test score: 0.920766568744341\n"
     ]
    }
   ],
   "source": [
    "best_lasso.fit(X_train_dum,y_train)\n",
    "print('Train score: %s' %best_lasso.score(X_train_dum,y_train))\n",
    "print('Test score: %s' %best_lasso.score(X_test_dum,y_test))"
   ]
  },
  {
   "cell_type": "code",
   "execution_count": 35,
   "id": "3287443f-03a3-41f2-a7d3-54b2280fa606",
   "metadata": {},
   "outputs": [
    {
     "name": "stdout",
     "output_type": "stream",
     "text": [
      "Average validation score: 0.8873808435652254\n"
     ]
    }
   ],
   "source": [
    "print('Average validation score: %s' \\\n",
    "      % np.mean(cross_val_score(best_lasso, X_train_dum, y_train, \n",
    "                                cv = 5)))"
   ]
  },
  {
   "cell_type": "markdown",
   "id": "7e1cb314-5b0e-4f5f-bcf2-6e03472de9e2",
   "metadata": {},
   "source": [
    "Shows improvement, but still capping out around 92%"
   ]
  },
  {
   "cell_type": "markdown",
   "id": "8886c46b-aebf-4d5c-afa2-d75af1fe221b",
   "metadata": {},
   "source": [
    "## No scaling"
   ]
  },
  {
   "cell_type": "code",
   "execution_count": 36,
   "id": "571c7511-9bc1-44bf-9d8e-8a31f3158f32",
   "metadata": {},
   "outputs": [],
   "source": [
    "# gslasso = GridSearchCV(Lasso(tol = .04), param_grid = {'alpha': 10.0 ** np.arange(-5,5)}, cv = 5, n_jobs = -1)\n",
    "# gslasso.fit(X_train_dum,y_train)\n",
    "# best_lasso = gslasso.best_estimator_"
   ]
  },
  {
   "cell_type": "code",
   "execution_count": 37,
   "id": "7e0a58b7-fcc5-4537-99ca-954eb25fec20",
   "metadata": {},
   "outputs": [],
   "source": [
    "# print(f'The best CV score was {gslasso.best_score_} using parameters {gslasso.best_params_}')"
   ]
  },
  {
   "cell_type": "code",
   "execution_count": 38,
   "id": "2a0f54f3-3001-4829-9e33-38423d555259",
   "metadata": {},
   "outputs": [],
   "source": [
    "# gslasso = GridSearchCV(Lasso(), param_grid = {'alpha':np.arange(0,2000,100)[1:]}, cv = 5, n_jobs = -1)\n",
    "# gslasso.fit(X_train_dum,y_train)\n",
    "# best_lasso = gslasso.best_estimator_"
   ]
  },
  {
   "cell_type": "code",
   "execution_count": 39,
   "id": "03d76d1e-7f93-4ed2-a62a-213f90da3535",
   "metadata": {},
   "outputs": [],
   "source": [
    "# print(f'The best CV score was {gslasso.best_score_} using parameters {gslasso.best_params_}')"
   ]
  },
  {
   "cell_type": "code",
   "execution_count": 40,
   "id": "861f1941-2fc6-484a-b9db-a8c70b50e937",
   "metadata": {},
   "outputs": [],
   "source": [
    "# gslasso = GridSearchCV(Lasso(tol = .03), param_grid = {'alpha':np.arange(0,200,10)[1:]}, cv = 5, n_jobs = -1)\n",
    "# gslasso.fit(X_train_dum,y_train)\n",
    "# best_lasso = gslasso.best_estimator_"
   ]
  },
  {
   "cell_type": "code",
   "execution_count": 41,
   "id": "a1839e87-57dc-492b-a794-9ff6f8538273",
   "metadata": {},
   "outputs": [],
   "source": [
    "# print(f'The best CV score was {gslasso.best_score_} using parameters {gslasso.best_params_}')"
   ]
  },
  {
   "cell_type": "code",
   "execution_count": 42,
   "id": "1facf8e0-1010-4ace-880a-1e6bd2ad0c22",
   "metadata": {},
   "outputs": [],
   "source": [
    "gslasso = GridSearchCV(Lasso(), param_grid = {'alpha':np.arange(90,110)}, cv = 5, n_jobs = -1)\n",
    "gslasso.fit(X_train_dum,y_train)\n",
    "best_lasso = gslasso.best_estimator_"
   ]
  },
  {
   "cell_type": "code",
   "execution_count": 43,
   "id": "150099b9-4d46-41f4-8ca0-fd33df66812b",
   "metadata": {},
   "outputs": [
    {
     "name": "stdout",
     "output_type": "stream",
     "text": [
      "The best CV score was 0.8871103967802345 using parameters {'alpha': 100}\n"
     ]
    }
   ],
   "source": [
    "print(f'The best CV score was {gslasso.best_score_} using parameters {gslasso.best_params_}')"
   ]
  },
  {
   "cell_type": "markdown",
   "id": "bc42fb48-e36a-40a5-8ec4-0400a097db14",
   "metadata": {},
   "source": [
    "The best CV score was 0.8871103967802345 using parameters {'alpha': 100}"
   ]
  },
  {
   "cell_type": "markdown",
   "id": "dc307d9d-bf0c-4d9d-85ba-dcbb176fe080",
   "metadata": {},
   "source": [
    "### Evaluate model"
   ]
  },
  {
   "cell_type": "code",
   "execution_count": 44,
   "id": "ec21f4af-ecb0-439f-970c-c420963230ef",
   "metadata": {},
   "outputs": [
    {
     "name": "stdout",
     "output_type": "stream",
     "text": [
      "Train score: 0.9203862715034566\n",
      "Test score: 0.922006216515469\n"
     ]
    }
   ],
   "source": [
    "best_lasso.fit(X_train_dum,y_train)\n",
    "print('Train score: %s' %best_lasso.score(X_train_dum,y_train))\n",
    "print('Test score: %s' %best_lasso.score(X_test_dum,y_test))"
   ]
  },
  {
   "cell_type": "code",
   "execution_count": 45,
   "id": "42dd2399-9de2-48cf-90f1-ef89bb70af1e",
   "metadata": {},
   "outputs": [
    {
     "name": "stdout",
     "output_type": "stream",
     "text": [
      "Average validation score: 0.8871103967802345\n"
     ]
    }
   ],
   "source": [
    "print('Average validation score: %s' \\\n",
    "      % np.mean(cross_val_score(best_lasso, X_train_dum, y_train, \n",
    "                                cv = 5)))"
   ]
  },
  {
   "cell_type": "markdown",
   "id": "e1a7a1d7-ebcf-4af5-a179-6c456a22f9aa",
   "metadata": {},
   "source": [
    "Has the best performance, confidently around 92%."
   ]
  },
  {
   "cell_type": "markdown",
   "id": "1139133a-215d-4647-800b-aa12ad68abab",
   "metadata": {},
   "source": [
    "# On selected features"
   ]
  },
  {
   "cell_type": "markdown",
   "id": "0184fd23-49ec-415b-9146-bdddb2e3966f",
   "metadata": {},
   "source": [
    "The research using selection by lasso, linear independence, and error helped identify features which were better linear predictors. Try an unscaled lasso model on these features alone."
   ]
  },
  {
   "cell_type": "code",
   "execution_count": 46,
   "id": "1b4d027e-5064-4a04-8ddc-5f5be9d49f2b",
   "metadata": {},
   "outputs": [],
   "source": [
    "with open('drop_list.txt') as f:\n",
    "    drop_list = f.read().split(',')"
   ]
  },
  {
   "cell_type": "code",
   "execution_count": 47,
   "id": "e5375767-48b7-4a5d-88b3-a3c046fb14f0",
   "metadata": {},
   "outputs": [],
   "source": [
    "features_select = features_dummied.drop(drop_list,axis = 1)\n",
    "\n",
    "X_select = features_select.loc[train_idx,:]\n",
    "X_select_test = features_select.loc[test_idx,:]"
   ]
  },
  {
   "cell_type": "code",
   "execution_count": 48,
   "id": "4f53ce27-2383-4714-b236-c0cf48dc85ba",
   "metadata": {},
   "outputs": [],
   "source": [
    "gslasso = GridSearchCV(Lasso(), param_grid = {'alpha': 10.0 ** np.arange(-5,5)}, cv = 5, n_jobs = -1)\n",
    "gslasso.fit(X_select,y_train)\n",
    "best_lasso = gslasso.best_estimator_"
   ]
  },
  {
   "cell_type": "code",
   "execution_count": 49,
   "id": "eb685b2e-19fd-4e1f-bfd7-9945a7b493de",
   "metadata": {},
   "outputs": [
    {
     "name": "stdout",
     "output_type": "stream",
     "text": [
      "The best CV score was 0.9026388746538331 using parameters {'alpha': 1e-05}\n"
     ]
    }
   ],
   "source": [
    "print(f'The best CV score was {gslasso.best_score_} using parameters {gslasso.best_params_}')"
   ]
  },
  {
   "cell_type": "code",
   "execution_count": 50,
   "id": "f4e26638-51b5-4445-a205-2518e750d76d",
   "metadata": {},
   "outputs": [],
   "source": [
    "gslasso = GridSearchCV(Lasso(tol = .03), param_grid = {'alpha': 10.0 ** np.arange(-10,-5)}, cv = 5, n_jobs = -1)\n",
    "gslasso.fit(X_select,y_train)\n",
    "best_lasso = gslasso.best_estimator_"
   ]
  },
  {
   "cell_type": "code",
   "execution_count": 51,
   "id": "27b0a930-1862-4682-9c13-79335509d4a8",
   "metadata": {},
   "outputs": [
    {
     "name": "stdout",
     "output_type": "stream",
     "text": [
      "The best CV score was 0.9026388747855361 using parameters {'alpha': 1e-10}\n"
     ]
    }
   ],
   "source": [
    "print(f'The best CV score was {gslasso.best_score_} using parameters {gslasso.best_params_}')"
   ]
  },
  {
   "cell_type": "markdown",
   "id": "4c8d659b-889e-4bda-92ca-340b5b5dccd4",
   "metadata": {},
   "source": [
    "Once features have been subsetted, lasso turns into unpenalized regression, with alpha becoming very small."
   ]
  },
  {
   "cell_type": "markdown",
   "id": "a8373ffb-d11c-4b2b-95d5-68e65aa618ed",
   "metadata": {},
   "source": [
    "### Evaluate model"
   ]
  },
  {
   "cell_type": "code",
   "execution_count": 52,
   "id": "b097d754-5cb4-4b34-965e-f499ffb9b004",
   "metadata": {},
   "outputs": [
    {
     "name": "stdout",
     "output_type": "stream",
     "text": [
      "Train score: 0.9323821191601597\n",
      "Test score: 0.9205159082127955\n"
     ]
    },
    {
     "name": "stderr",
     "output_type": "stream",
     "text": [
      "/Users/zachstone/miniforge3/envs/env_tf/lib/python3.9/site-packages/sklearn/linear_model/_coordinate_descent.py:647: ConvergenceWarning: Objective did not converge. You might want to increase the number of iterations, check the scale of the features or consider increasing regularisation. Duality gap: 3.293e+11, tolerance: 2.922e+11\n",
      "  model = cd_fast.enet_coordinate_descent(\n"
     ]
    }
   ],
   "source": [
    "best_lasso.fit(X_train_dum,y_train)\n",
    "print('Train score: %s' %best_lasso.score(X_train_dum,y_train))\n",
    "print('Test score: %s' %best_lasso.score(X_test_dum,y_test))"
   ]
  },
  {
   "cell_type": "markdown",
   "id": "9372032e-cce4-4146-876a-b5c4c4c571b1",
   "metadata": {},
   "source": [
    "Again, raises test score to 92% (slightly overfit), showing that interpretable model is competitive."
   ]
  }
 ],
 "metadata": {
  "kernelspec": {
   "display_name": "Python 3 (ipykernel)",
   "language": "python",
   "name": "python3"
  },
  "language_info": {
   "codemirror_mode": {
    "name": "ipython",
    "version": 3
   },
   "file_extension": ".py",
   "mimetype": "text/x-python",
   "name": "python",
   "nbconvert_exporter": "python",
   "pygments_lexer": "ipython3",
   "version": "3.9.12"
  }
 },
 "nbformat": 4,
 "nbformat_minor": 5
}
