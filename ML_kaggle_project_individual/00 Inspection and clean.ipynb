{
 "cells": [
  {
   "cell_type": "code",
   "execution_count": 1,
   "id": "c8fb8996-45d7-4310-bacb-d8ccbeb97aaa",
   "metadata": {},
   "outputs": [],
   "source": [
    "import pandas as pd\n",
    "import numpy as np\n",
    "import seaborn as sns\n",
    "from matplotlib import pyplot as plt\n",
    "import re\n",
    "from ames_preprocessing import col_splits"
   ]
  },
  {
   "cell_type": "markdown",
   "id": "f817d8fa-caef-4aee-b82d-547f91e636ec",
   "metadata": {},
   "source": [
    "# Import & clean"
   ]
  },
  {
   "cell_type": "code",
   "execution_count": 2,
   "id": "1f3790bd-d3a3-4ccd-9236-18174a546640",
   "metadata": {},
   "outputs": [],
   "source": [
    "#Import dataset\n",
    "data = pd.read_csv('data/Ames_Housing_Price_Data.csv', index_col = 0)"
   ]
  },
  {
   "cell_type": "code",
   "execution_count": 238,
   "id": "5dc1a49f-b9bd-42ba-8d02-495f1ec0f374",
   "metadata": {},
   "outputs": [],
   "source": [
    "#Create the clean dataframe\n",
    "housing = data.copy().drop_duplicates().reset_index(drop=True)\n",
    "\n",
    "#Separate columns for preprocessing\n",
    "col_groups = col_splits(housing)\n",
    "areas = col_groups['areas']\n",
    "frontage = col_groups['frontage']\n",
    "miscval = col_groups['miscval']\n",
    "conditions = col_groups['conditions']\n",
    "inspect10pt = col_groups['inspect10pt']\n",
    "inspect5pt = col_groups['inspect5pt']\n",
    "inspections = col_groups['inspections']\n",
    "dates = col_groups['dates']\n",
    "counts = col_groups['counts']\n",
    "categoricals = col_groups['categoricals']\n",
    "\n",
    "#Prep & check NaNs\n",
    "#Assume NaN in area/length column implies doesn't have this feature, hence would be 0 sqft of that feature\n",
    "housing[areas] = housing[areas].fillna(0.)\n",
    "housing[frontage] = housing[frontage].fillna(0.)\n",
    "\n",
    "#Convert rating Poor = 0, Fair = 1, Average = 2, Good = 3, Excellent = 4, keeping NaNs\n",
    "housing[inspect5pt] = housing[inspect5pt].applymap(lambda x: \n",
    "                                                   {'Po':0, 'Fa':1, 'TA':2, 'Gd':3, 'Ex':4, np.nan:np.nan}[x])"
   ]
  },
  {
   "cell_type": "markdown",
   "id": "11257c7c-6da3-4095-83b6-ac16d1b752b6",
   "metadata": {},
   "source": [
    "## NaNs"
   ]
  },
  {
   "cell_type": "markdown",
   "id": "4bd91d1a-e2a6-4320-a9fc-de666613c4cc",
   "metadata": {},
   "source": [
    "### Manual data removal/imputation"
   ]
  },
  {
   "cell_type": "code",
   "execution_count": 4,
   "id": "ff0f3100-b62b-40d2-bb4c-f39319aa4e6c",
   "metadata": {},
   "outputs": [
    {
     "data": {
      "text/html": [
       "<div>\n",
       "<style scoped>\n",
       "    .dataframe tbody tr th:only-of-type {\n",
       "        vertical-align: middle;\n",
       "    }\n",
       "\n",
       "    .dataframe tbody tr th {\n",
       "        vertical-align: top;\n",
       "    }\n",
       "\n",
       "    .dataframe thead th {\n",
       "        text-align: right;\n",
       "    }\n",
       "</style>\n",
       "<table border=\"1\" class=\"dataframe\">\n",
       "  <thead>\n",
       "    <tr style=\"text-align: right;\">\n",
       "      <th></th>\n",
       "      <th>GarageType</th>\n",
       "      <th>GarageYrBlt</th>\n",
       "      <th>GarageFinish</th>\n",
       "      <th>GarageCars</th>\n",
       "      <th>GarageArea</th>\n",
       "      <th>GarageQual</th>\n",
       "      <th>GarageCond</th>\n",
       "    </tr>\n",
       "  </thead>\n",
       "  <tbody>\n",
       "    <tr>\n",
       "      <th>531</th>\n",
       "      <td>Detchd</td>\n",
       "      <td>NaN</td>\n",
       "      <td>NaN</td>\n",
       "      <td>1.0</td>\n",
       "      <td>360.0</td>\n",
       "      <td>NaN</td>\n",
       "      <td>NaN</td>\n",
       "    </tr>\n",
       "  </tbody>\n",
       "</table>\n",
       "</div>"
      ],
      "text/plain": [
       "    GarageType  GarageYrBlt GarageFinish  GarageCars  GarageArea  GarageQual  \\\n",
       "531     Detchd          NaN          NaN         1.0       360.0         NaN   \n",
       "\n",
       "     GarageCond  \n",
       "531         NaN  "
      ]
     },
     "execution_count": 4,
     "metadata": {},
     "output_type": "execute_result"
    }
   ],
   "source": [
    "#A bunch of info is missing from one entry about garages. Remove garage info, as seems like \"unofficial\" garage.\n",
    "housing[housing['GarageCond'].isna() & (housing['GarageArea'] != 0)].filter(regex = 'Garage')"
   ]
  },
  {
   "cell_type": "code",
   "execution_count": 5,
   "id": "71c56530-b58f-47a4-9627-d13f563734e7",
   "metadata": {},
   "outputs": [
    {
     "data": {
      "text/html": [
       "<div>\n",
       "<style scoped>\n",
       "    .dataframe tbody tr th:only-of-type {\n",
       "        vertical-align: middle;\n",
       "    }\n",
       "\n",
       "    .dataframe tbody tr th {\n",
       "        vertical-align: top;\n",
       "    }\n",
       "\n",
       "    .dataframe thead th {\n",
       "        text-align: right;\n",
       "    }\n",
       "</style>\n",
       "<table border=\"1\" class=\"dataframe\">\n",
       "  <thead>\n",
       "    <tr style=\"text-align: right;\">\n",
       "      <th></th>\n",
       "      <th>GarageType</th>\n",
       "      <th>GarageYrBlt</th>\n",
       "      <th>GarageFinish</th>\n",
       "      <th>GarageCars</th>\n",
       "      <th>GarageArea</th>\n",
       "      <th>GarageQual</th>\n",
       "      <th>GarageCond</th>\n",
       "    </tr>\n",
       "  </thead>\n",
       "  <tbody>\n",
       "    <tr>\n",
       "      <th>433</th>\n",
       "      <td>Detchd</td>\n",
       "      <td>NaN</td>\n",
       "      <td>NaN</td>\n",
       "      <td>NaN</td>\n",
       "      <td>0.0</td>\n",
       "      <td>NaN</td>\n",
       "      <td>NaN</td>\n",
       "    </tr>\n",
       "  </tbody>\n",
       "</table>\n",
       "</div>"
      ],
      "text/plain": [
       "    GarageType  GarageYrBlt GarageFinish  GarageCars  GarageArea  GarageQual  \\\n",
       "433     Detchd          NaN          NaN         NaN         0.0         NaN   \n",
       "\n",
       "     GarageCond  \n",
       "433         NaN  "
      ]
     },
     "execution_count": 5,
     "metadata": {},
     "output_type": "execute_result"
    }
   ],
   "source": [
    "#Similarly, there is one house which is indicated as having a detached garage, but no other info. Remove the garage info.\n",
    "housing[housing.GarageType.notnull() & (housing.GarageArea == 0)].filter(regex = 'Garage')"
   ]
  },
  {
   "cell_type": "markdown",
   "id": "fb533de3-5a54-460d-8a56-75937ccd67b0",
   "metadata": {},
   "source": [
    "Basement finish type is missing for one entry with a basement. Impute the same value as the first finishing type."
   ]
  },
  {
   "cell_type": "code",
   "execution_count": 81,
   "id": "c545d2ce-9ffa-4137-a90b-274027177a1a",
   "metadata": {},
   "outputs": [
    {
     "data": {
      "text/html": [
       "<div>\n",
       "<style scoped>\n",
       "    .dataframe tbody tr th:only-of-type {\n",
       "        vertical-align: middle;\n",
       "    }\n",
       "\n",
       "    .dataframe tbody tr th {\n",
       "        vertical-align: top;\n",
       "    }\n",
       "\n",
       "    .dataframe thead th {\n",
       "        text-align: right;\n",
       "    }\n",
       "</style>\n",
       "<table border=\"1\" class=\"dataframe\">\n",
       "  <thead>\n",
       "    <tr style=\"text-align: right;\">\n",
       "      <th></th>\n",
       "      <th>BsmtQual</th>\n",
       "      <th>BsmtCond</th>\n",
       "      <th>BsmtExposure</th>\n",
       "      <th>BsmtFinType1</th>\n",
       "      <th>BsmtFinSF1</th>\n",
       "      <th>BsmtFinType2</th>\n",
       "      <th>BsmtFinSF2</th>\n",
       "      <th>BsmtUnfSF</th>\n",
       "      <th>TotalBsmtSF</th>\n",
       "      <th>BsmtFullBath</th>\n",
       "      <th>BsmtHalfBath</th>\n",
       "    </tr>\n",
       "  </thead>\n",
       "  <tbody>\n",
       "    <tr>\n",
       "      <th>2433</th>\n",
       "      <td>3.0</td>\n",
       "      <td>2.0</td>\n",
       "      <td>No</td>\n",
       "      <td>GLQ</td>\n",
       "      <td>1124.0</td>\n",
       "      <td>NaN</td>\n",
       "      <td>479.0</td>\n",
       "      <td>1603.0</td>\n",
       "      <td>3206.0</td>\n",
       "      <td>1.0</td>\n",
       "      <td>0.0</td>\n",
       "    </tr>\n",
       "  </tbody>\n",
       "</table>\n",
       "</div>"
      ],
      "text/plain": [
       "      BsmtQual  BsmtCond BsmtExposure BsmtFinType1  BsmtFinSF1 BsmtFinType2  \\\n",
       "2433       3.0       2.0           No          GLQ      1124.0          NaN   \n",
       "\n",
       "      BsmtFinSF2  BsmtUnfSF  TotalBsmtSF  BsmtFullBath  BsmtHalfBath  \n",
       "2433       479.0     1603.0       3206.0           1.0           0.0  "
      ]
     },
     "execution_count": 81,
     "metadata": {},
     "output_type": "execute_result"
    }
   ],
   "source": [
    "housing[housing.BsmtFinType2.isna() & (housing['TotalBsmtSF'] != 0)].filter(regex='Bsmt')"
   ]
  },
  {
   "cell_type": "markdown",
   "id": "0cdf5918-bde9-4e79-b72d-d6ce16e63137",
   "metadata": {},
   "source": [
    "Basement exposure type missing for two entries. Impute with most common, not exposed."
   ]
  },
  {
   "cell_type": "code",
   "execution_count": 74,
   "id": "059a70f8-3ba4-4d91-8edc-ee8df4b6b80e",
   "metadata": {},
   "outputs": [
    {
     "data": {
      "text/html": [
       "<div>\n",
       "<style scoped>\n",
       "    .dataframe tbody tr th:only-of-type {\n",
       "        vertical-align: middle;\n",
       "    }\n",
       "\n",
       "    .dataframe tbody tr th {\n",
       "        vertical-align: top;\n",
       "    }\n",
       "\n",
       "    .dataframe thead th {\n",
       "        text-align: right;\n",
       "    }\n",
       "</style>\n",
       "<table border=\"1\" class=\"dataframe\">\n",
       "  <thead>\n",
       "    <tr style=\"text-align: right;\">\n",
       "      <th></th>\n",
       "      <th>BsmtQual</th>\n",
       "      <th>BsmtCond</th>\n",
       "      <th>BsmtExposure</th>\n",
       "      <th>BsmtFinType1</th>\n",
       "      <th>BsmtFinSF1</th>\n",
       "      <th>BsmtFinType2</th>\n",
       "      <th>BsmtFinSF2</th>\n",
       "      <th>BsmtUnfSF</th>\n",
       "      <th>TotalBsmtSF</th>\n",
       "      <th>BsmtFullBath</th>\n",
       "      <th>BsmtHalfBath</th>\n",
       "    </tr>\n",
       "  </thead>\n",
       "  <tbody>\n",
       "    <tr>\n",
       "      <th>813</th>\n",
       "      <td>3.0</td>\n",
       "      <td>2.0</td>\n",
       "      <td>NaN</td>\n",
       "      <td>Unf</td>\n",
       "      <td>0.0</td>\n",
       "      <td>Unf</td>\n",
       "      <td>0.0</td>\n",
       "      <td>936.0</td>\n",
       "      <td>936.0</td>\n",
       "      <td>0.0</td>\n",
       "      <td>0.0</td>\n",
       "    </tr>\n",
       "    <tr>\n",
       "      <th>1201</th>\n",
       "      <td>3.0</td>\n",
       "      <td>2.0</td>\n",
       "      <td>NaN</td>\n",
       "      <td>Unf</td>\n",
       "      <td>0.0</td>\n",
       "      <td>Unf</td>\n",
       "      <td>0.0</td>\n",
       "      <td>1595.0</td>\n",
       "      <td>1595.0</td>\n",
       "      <td>0.0</td>\n",
       "      <td>0.0</td>\n",
       "    </tr>\n",
       "  </tbody>\n",
       "</table>\n",
       "</div>"
      ],
      "text/plain": [
       "      BsmtQual  BsmtCond BsmtExposure BsmtFinType1  BsmtFinSF1 BsmtFinType2  \\\n",
       "813        3.0       2.0          NaN          Unf         0.0          Unf   \n",
       "1201       3.0       2.0          NaN          Unf         0.0          Unf   \n",
       "\n",
       "      BsmtFinSF2  BsmtUnfSF  TotalBsmtSF  BsmtFullBath  BsmtHalfBath  \n",
       "813          0.0      936.0        936.0           0.0           0.0  \n",
       "1201         0.0     1595.0       1595.0           0.0           0.0  "
      ]
     },
     "execution_count": 74,
     "metadata": {},
     "output_type": "execute_result"
    }
   ],
   "source": [
    "housing[housing.BsmtExposure.isna() & (housing['TotalBsmtSF'] != 0)].filter(regex='Bsmt')"
   ]
  },
  {
   "cell_type": "markdown",
   "id": "8036228c-be64-46ea-ac36-e2e41fabd090",
   "metadata": {},
   "source": [
    "Electrical missing for one. Impute with most common."
   ]
  },
  {
   "cell_type": "code",
   "execution_count": 102,
   "id": "7929e762-13d2-42ba-91a4-181bd119a892",
   "metadata": {},
   "outputs": [
    {
     "data": {
      "text/html": [
       "<div>\n",
       "<style scoped>\n",
       "    .dataframe tbody tr th:only-of-type {\n",
       "        vertical-align: middle;\n",
       "    }\n",
       "\n",
       "    .dataframe tbody tr th {\n",
       "        vertical-align: top;\n",
       "    }\n",
       "\n",
       "    .dataframe thead th {\n",
       "        text-align: right;\n",
       "    }\n",
       "</style>\n",
       "<table border=\"1\" class=\"dataframe\">\n",
       "  <thead>\n",
       "    <tr style=\"text-align: right;\">\n",
       "      <th></th>\n",
       "      <th>PID</th>\n",
       "      <th>GrLivArea</th>\n",
       "      <th>SalePrice</th>\n",
       "      <th>MSSubClass</th>\n",
       "      <th>MSZoning</th>\n",
       "      <th>LotFrontage</th>\n",
       "      <th>LotArea</th>\n",
       "      <th>Street</th>\n",
       "      <th>Alley</th>\n",
       "      <th>LotShape</th>\n",
       "      <th>...</th>\n",
       "      <th>ScreenPorch</th>\n",
       "      <th>PoolArea</th>\n",
       "      <th>PoolQC</th>\n",
       "      <th>Fence</th>\n",
       "      <th>MiscFeature</th>\n",
       "      <th>MiscVal</th>\n",
       "      <th>MoSold</th>\n",
       "      <th>YrSold</th>\n",
       "      <th>SaleType</th>\n",
       "      <th>SaleCondition</th>\n",
       "    </tr>\n",
       "  </thead>\n",
       "  <tbody>\n",
       "    <tr>\n",
       "      <th>2441</th>\n",
       "      <td>916386080</td>\n",
       "      <td>1394</td>\n",
       "      <td>167500</td>\n",
       "      <td>80</td>\n",
       "      <td>RL</td>\n",
       "      <td>73.0</td>\n",
       "      <td>9735</td>\n",
       "      <td>Pave</td>\n",
       "      <td>NaN</td>\n",
       "      <td>Reg</td>\n",
       "      <td>...</td>\n",
       "      <td>0</td>\n",
       "      <td>0</td>\n",
       "      <td>NaN</td>\n",
       "      <td>NaN</td>\n",
       "      <td>NaN</td>\n",
       "      <td>0</td>\n",
       "      <td>5</td>\n",
       "      <td>2008</td>\n",
       "      <td>WD</td>\n",
       "      <td>Normal</td>\n",
       "    </tr>\n",
       "  </tbody>\n",
       "</table>\n",
       "<p>1 rows × 81 columns</p>\n",
       "</div>"
      ],
      "text/plain": [
       "            PID  GrLivArea  SalePrice  MSSubClass MSZoning  LotFrontage  \\\n",
       "2441  916386080       1394     167500          80       RL         73.0   \n",
       "\n",
       "      LotArea Street Alley LotShape  ... ScreenPorch PoolArea PoolQC Fence  \\\n",
       "2441     9735   Pave   NaN      Reg  ...           0        0    NaN   NaN   \n",
       "\n",
       "     MiscFeature MiscVal MoSold YrSold SaleType  SaleCondition  \n",
       "2441         NaN       0      5   2008      WD          Normal  \n",
       "\n",
       "[1 rows x 81 columns]"
      ]
     },
     "execution_count": 102,
     "metadata": {},
     "output_type": "execute_result"
    }
   ],
   "source": [
    "housing[housing.Electrical.isna()]"
   ]
  },
  {
   "cell_type": "markdown",
   "id": "de1e43d6-8c12-45db-9701-f7359ae16a42",
   "metadata": {},
   "source": [
    "Nonsense remodel year. Replace with 2002"
   ]
  },
  {
   "cell_type": "code",
   "execution_count": 182,
   "id": "b15a167f-ad43-457a-99fd-326b07e8f85c",
   "metadata": {},
   "outputs": [
    {
     "data": {
      "text/html": [
       "<div>\n",
       "<style scoped>\n",
       "    .dataframe tbody tr th:only-of-type {\n",
       "        vertical-align: middle;\n",
       "    }\n",
       "\n",
       "    .dataframe tbody tr th {\n",
       "        vertical-align: top;\n",
       "    }\n",
       "\n",
       "    .dataframe thead th {\n",
       "        text-align: right;\n",
       "    }\n",
       "</style>\n",
       "<table border=\"1\" class=\"dataframe\">\n",
       "  <thead>\n",
       "    <tr style=\"text-align: right;\">\n",
       "      <th></th>\n",
       "      <th>YearBuilt</th>\n",
       "      <th>YearRemodAdd</th>\n",
       "    </tr>\n",
       "  </thead>\n",
       "  <tbody>\n",
       "    <tr>\n",
       "      <th>2033</th>\n",
       "      <td>2002</td>\n",
       "      <td>2001</td>\n",
       "    </tr>\n",
       "  </tbody>\n",
       "</table>\n",
       "</div>"
      ],
      "text/plain": [
       "      YearBuilt  YearRemodAdd\n",
       "2033       2002          2001"
      ]
     },
     "execution_count": 182,
     "metadata": {},
     "output_type": "execute_result"
    }
   ],
   "source": [
    "housing[~(housing['YearRemodAdd'] >= housing['YearBuilt'])].filter(regex='Year')"
   ]
  },
  {
   "cell_type": "markdown",
   "id": "b77b634f-d930-42fc-8411-e25bc9f32e66",
   "metadata": {},
   "source": [
    "Only one Sale Type VWD, when there is an Other available"
   ]
  },
  {
   "cell_type": "code",
   "execution_count": 248,
   "id": "9fa452da-e084-4812-aba7-77108897ab91",
   "metadata": {},
   "outputs": [
    {
     "data": {
      "text/html": [
       "<div>\n",
       "<style scoped>\n",
       "    .dataframe tbody tr th:only-of-type {\n",
       "        vertical-align: middle;\n",
       "    }\n",
       "\n",
       "    .dataframe tbody tr th {\n",
       "        vertical-align: top;\n",
       "    }\n",
       "\n",
       "    .dataframe thead th {\n",
       "        text-align: right;\n",
       "    }\n",
       "</style>\n",
       "<table border=\"1\" class=\"dataframe\">\n",
       "  <thead>\n",
       "    <tr style=\"text-align: right;\">\n",
       "      <th></th>\n",
       "      <th>PID</th>\n",
       "      <th>SalePrice</th>\n",
       "      <th>MSSubClass</th>\n",
       "      <th>MSZoning</th>\n",
       "      <th>LotFrontage</th>\n",
       "      <th>LotArea</th>\n",
       "      <th>Street</th>\n",
       "      <th>Alley</th>\n",
       "      <th>LotShape</th>\n",
       "      <th>LandContour</th>\n",
       "      <th>...</th>\n",
       "      <th>ScreenPorch</th>\n",
       "      <th>PoolArea</th>\n",
       "      <th>PoolQC</th>\n",
       "      <th>Fence</th>\n",
       "      <th>MiscFeature</th>\n",
       "      <th>MiscVal</th>\n",
       "      <th>MoSold</th>\n",
       "      <th>YrSold</th>\n",
       "      <th>SaleType</th>\n",
       "      <th>SaleCondition</th>\n",
       "    </tr>\n",
       "  </thead>\n",
       "  <tbody>\n",
       "    <tr>\n",
       "      <th>638</th>\n",
       "      <td>905226170</td>\n",
       "      <td>137000</td>\n",
       "      <td>20</td>\n",
       "      <td>RL</td>\n",
       "      <td>85.0</td>\n",
       "      <td>13770</td>\n",
       "      <td>Pave</td>\n",
       "      <td>none</td>\n",
       "      <td>Reg</td>\n",
       "      <td>Lvl</td>\n",
       "      <td>...</td>\n",
       "      <td>0</td>\n",
       "      <td>0</td>\n",
       "      <td>NaN</td>\n",
       "      <td>none</td>\n",
       "      <td>none</td>\n",
       "      <td>0</td>\n",
       "      <td>10</td>\n",
       "      <td>2007</td>\n",
       "      <td>VWD</td>\n",
       "      <td>Normal</td>\n",
       "    </tr>\n",
       "  </tbody>\n",
       "</table>\n",
       "<p>1 rows × 78 columns</p>\n",
       "</div>"
      ],
      "text/plain": [
       "           PID  SalePrice  MSSubClass MSZoning  LotFrontage  LotArea Street  \\\n",
       "638  905226170     137000          20       RL         85.0    13770   Pave   \n",
       "\n",
       "    Alley LotShape LandContour  ... ScreenPorch PoolArea PoolQC Fence  \\\n",
       "638  none      Reg         Lvl  ...           0        0    NaN  none   \n",
       "\n",
       "    MiscFeature MiscVal MoSold YrSold  SaleType  SaleCondition  \n",
       "638        none       0     10   2007       VWD         Normal  \n",
       "\n",
       "[1 rows x 78 columns]"
      ]
     },
     "execution_count": 248,
     "metadata": {},
     "output_type": "execute_result"
    }
   ],
   "source": [
    "housing[housing.SaleType == 'VWD']"
   ]
  },
  {
   "cell_type": "code",
   "execution_count": 239,
   "id": "8c768998-feea-4436-84bb-93653c3c855c",
   "metadata": {},
   "outputs": [],
   "source": [
    "housing.at[531,'GarageType'] = np.nan\n",
    "housing.at[531,'GarageCars'] = np.nan\n",
    "housing.at[531,'GarageArea'] = 0\n",
    "\n",
    "housing.at[433, 'GarageType'] = np.nan\n",
    "\n",
    "housing.at[2433, 'BsmtFinType2'] = 'GLQ'\n",
    "\n",
    "housing.at[813, 'BsmtExposure'] = 'No'\n",
    "housing.at[1201, 'BsmtExposure'] = 'No'\n",
    "\n",
    "housing.at[2441, 'Electrical'] = 'SBrkr'\n",
    "\n",
    "housing.at[2033, 'YearRemodAdd'] = 2002\n",
    "\n",
    "housing.at[638, 'SaleType'] = 'Oth'"
   ]
  },
  {
   "cell_type": "markdown",
   "id": "28493d15-c0ab-4a3d-9e7a-93f47959c9f3",
   "metadata": {},
   "source": [
    "### Impute reasonable zeros/nones"
   ]
  },
  {
   "cell_type": "markdown",
   "id": "080e26e9-f309-4cd1-9c82-ee8a42ca35fb",
   "metadata": {},
   "source": [
    "Check that missing miscellaneous value, basement full and half baths, and # of car spaces in garage are only missing when a miscellaneous attribute, basement, or garage are missing. In this case, inpute 0."
   ]
  },
  {
   "cell_type": "code",
   "execution_count": 240,
   "id": "aa8a622f-6825-4998-a5fe-a3436c6b61b0",
   "metadata": {},
   "outputs": [],
   "source": [
    "#All places where miscval is missing should correspond to places where there is no associated Misc Feature\n",
    "assert housing[housing[miscval].isna()].loc[:,'MiscFeature'].notnull().sum() == 0\n",
    "#In which case, fill miscval with $0\n",
    "housing[miscval] = housing[miscval].fillna(0.)\n",
    "\n",
    "#Basement baths only missing where there is no basement\n",
    "assert housing[housing['BsmtFullBath'].isna()].loc[:,'TotalBsmtSF'].sum() == 0\n",
    "assert housing[housing['BsmtHalfBath'].isna()].loc[:,'TotalBsmtSF'].sum() == 0\n",
    "#Fill these with 0\n",
    "housing['BsmtFullBath'] = housing['BsmtFullBath'].fillna(0)\n",
    "housing['BsmtHalfBath'] = housing['BsmtHalfBath'].fillna(0)\n",
    "\n",
    "#Number of cars garage can hold only missing when there is no garage\n",
    "assert housing[housing['GarageCars'].isna()].GarageArea.sum() == 0\n",
    "#Fill these with 0\n",
    "housing['GarageCars'] = housing['GarageCars'].fillna(0)\n",
    "\n",
    "#Check missing categoricals\n",
    "assert housing[housing.MiscFeature.isna()].loc[:,'MiscVal'].sum() == 0 # missing MiscFeature --> 0 for MiscVal\n",
    "assert housing[housing.GarageFinish.isna()].loc[:,'GarageArea'].sum() == 0 # missing GarageFinish --> no garage\n",
    "assert housing[housing.GarageType.isna()].loc[:,'GarageArea'].sum() == 0 # missing GarageType --> no garage\n",
    "assert housing[housing.BsmtFinType1.isna()].loc[:,'TotalBsmtSF'].sum() == 0 # missing BsmtFinType1 --> no basement\n",
    "assert housing[housing.BsmtFinType2.isna()].loc[:,'TotalBsmtSF'].sum() == 0 # missing BsmtFinType2 --> no basement\n",
    "assert housing[housing.BsmtExposure.isna()].loc[:,'TotalBsmtSF'].sum() == 0 # missing BsmtExposure --> no basement\n",
    "assert housing[housing.MasVnrType.isna()].loc[:,'MasVnrArea'].sum() == 0 # missing MasVnrType --> no masonry veneer\n",
    "\n",
    "#Fill categorical NaNs with 'none'\n",
    "housing[categoricals] = housing[categoricals].fillna('none')\n",
    "housing['MasVnrType'] = housing['MasVnrType'].apply(lambda x: 'none' if x=='None' else x)"
   ]
  },
  {
   "cell_type": "markdown",
   "id": "a26012d6-88ca-49fb-ab31-52978a7b2cde",
   "metadata": {},
   "source": [
    "### NaN check"
   ]
  },
  {
   "cell_type": "code",
   "execution_count": 212,
   "id": "d9618a06-2044-48f9-8b72-43f89951168e",
   "metadata": {},
   "outputs": [
    {
     "data": {
      "text/plain": [
       "['BsmtQual',\n",
       " 'BsmtCond',\n",
       " 'FireplaceQu',\n",
       " 'GarageYrBlt',\n",
       " 'GarageQual',\n",
       " 'GarageCond',\n",
       " 'PoolQC']"
      ]
     },
     "execution_count": 212,
     "metadata": {},
     "output_type": "execute_result"
    }
   ],
   "source": [
    "missing = housing.isna().sum() != 0\n",
    "[x for x in housing.columns if missing[x] and (x not in categoricals)]"
   ]
  },
  {
   "cell_type": "code",
   "execution_count": 241,
   "id": "f9c69dc2-2032-4831-ae01-2a6dbbaece81",
   "metadata": {},
   "outputs": [],
   "source": [
    "#BsmtQual and BsmtCond only missing where there is no basement\n",
    "assert (housing['BsmtQual'].isna() == housing['BsmtCond'].isna()).all() #missing for same listings\n",
    "assert housing[housing['BsmtQual'].isna()].loc[:,'TotalBsmtSF'].sum() == 0 #BsmtQual/Cond should only be missing where there is no basement\n",
    "\n",
    "#Fireplace Quality only missing where no fireplaces\n",
    "assert housing[housing['FireplaceQu'].isna()].loc[:,'Fireplaces'].sum() == 0\n",
    "\n",
    "#Garage Year Built only missing where no garage\n",
    "assert (housing['GarageYrBlt'].isna() == (housing['GarageArea'] == 0)).all()\n",
    "\n",
    "#Pool Quality only missing where no pool\n",
    "assert housing[housing['PoolQC'].isna()].loc[:,'PoolArea'].sum() == 0\n",
    "\n",
    "#Garage quality only missing where no garage (except for where dropped)\n",
    "assert (housing.GarageCond.isna() == (housing.GarageArea == 0)).all()"
   ]
  },
  {
   "cell_type": "markdown",
   "id": "2c1b57d3-bfd2-45a9-b2d3-858293b595fe",
   "metadata": {},
   "source": [
    "## Drop totals"
   ]
  },
  {
   "cell_type": "code",
   "execution_count": 242,
   "id": "13e03991-1f94-40e8-b925-d69198c85c4a",
   "metadata": {},
   "outputs": [],
   "source": [
    "#TotRmsAbvGrd not computed consistently, remove\n",
    "A = housing[['FullBath', 'HalfBath', 'BedroomAbvGr', 'KitchenAbvGr']].sum(axis = 1) == housing['TotRmsAbvGrd']\n",
    "B = housing[['FullBath', 'BedroomAbvGr', 'KitchenAbvGr']].sum(axis = 1) == housing['TotRmsAbvGrd']\n",
    "housing[B & (~A)].shape[0] == 0\n",
    "\n",
    "housing.drop('TotRmsAbvGrd', axis = 1, inplace = True)\n",
    "counts.remove('TotRmsAbvGrd')"
   ]
  },
  {
   "cell_type": "code",
   "execution_count": 243,
   "id": "98555b37-575b-40b2-bb6a-c159810e3246",
   "metadata": {},
   "outputs": [],
   "source": [
    "#TotalBsmtSF is the sum of basement SFs, can be removed\n",
    "assert (housing.filter(regex = 'Bsmt.+SF').sum(axis = 1) == housing['TotalBsmtSF']).all()\n",
    "housing.drop('TotalBsmtSF', axis = 1, inplace = True)\n",
    "areas.remove('TotalBsmtSF')\n",
    "\n",
    "#GrLivArea is just sum of 1stFlrSF, 2ndFlrSF, and LowQualFinSF, so can be removed\n",
    "assert (housing['1stFlrSF'] + housing['2ndFlrSF'] + housing['LowQualFinSF'] == housing['GrLivArea']).all()\n",
    "housing.drop('GrLivArea', axis = 1, inplace=True)\n",
    "areas.remove('GrLivArea')"
   ]
  },
  {
   "cell_type": "markdown",
   "id": "66b19074-4286-402a-80a2-211cc1197569",
   "metadata": {},
   "source": [
    "## Remaining NaNs"
   ]
  },
  {
   "cell_type": "code",
   "execution_count": 142,
   "id": "f1b4a58b-39d7-4418-ab3a-d779c6aa2ebf",
   "metadata": {},
   "outputs": [],
   "source": [
    "# missing = (x for x in housing.columns if housing[x].isna().sum() != 0)"
   ]
  },
  {
   "cell_type": "code",
   "execution_count": 155,
   "id": "3fbc7e12-824c-44ae-a6ac-9c127f6b12e1",
   "metadata": {},
   "outputs": [],
   "source": [
    "# x = next(missing)\n",
    "# plt.scatter(housing[x], housing.SalePrice)\n",
    "# plt.title(f'{x} vs. Sale Price')"
   ]
  },
  {
   "cell_type": "code",
   "execution_count": 235,
   "id": "97dea3ee-1ec5-42fd-b9dd-c2dc6c3b5748",
   "metadata": {},
   "outputs": [],
   "source": [
    "#These don't seem to have strong linear correlation with sale price\n",
    "housing.drop(['BsmtCond', 'FireplaceQu', 'GarageQual', 'GarageCond', 'PoolQC'], axis = 1, inplace = True)"
   ]
  },
  {
   "cell_type": "code",
   "execution_count": 217,
   "id": "157d1417-dc99-4dad-8cf9-69ecbc98d82e",
   "metadata": {},
   "outputs": [
    {
     "data": {
      "text/plain": [
       "['BsmtQual', 'GarageYrBlt']"
      ]
     },
     "execution_count": 217,
     "metadata": {},
     "output_type": "execute_result"
    }
   ],
   "source": [
    "[x for x in housing.columns if housing[x].isna().sum() != 0]"
   ]
  },
  {
   "cell_type": "markdown",
   "id": "465ea25b-cd46-4b6a-bce9-344baa0d2d83",
   "metadata": {},
   "source": [
    "### Basement Quality"
   ]
  },
  {
   "cell_type": "code",
   "execution_count": 218,
   "id": "c96db79f-e691-4008-9a57-9bff0e38f847",
   "metadata": {},
   "outputs": [
    {
     "data": {
      "text/plain": [
       "Text(0.5, 1.0, 'BsmtQual vs. Sale Price')"
      ]
     },
     "execution_count": 218,
     "metadata": {},
     "output_type": "execute_result"
    },
    {
     "data": {
      "image/png": "[encoded data removed]",
      "text/plain": [
       "<Figure size 432x288 with 1 Axes>"
      ]
     },
     "metadata": {
      "needs_background": "light"
     },
     "output_type": "display_data"
    }
   ],
   "source": [
    "#Shows some correlation, might want to keep\n",
    "x = 'BsmtQual'\n",
    "plt.scatter(housing[x], housing.SalePrice)\n",
    "plt.title(f'{x} vs. Sale Price')"
   ]
  },
  {
   "cell_type": "code",
   "execution_count": 219,
   "id": "aff72b7a-f302-4fcd-80e3-c51b820506cc",
   "metadata": {},
   "outputs": [
    {
     "data": {
      "text/plain": [
       "Text(0.5, 1.0, 'BsmtQual vs. Sale Price')"
      ]
     },
     "execution_count": 219,
     "metadata": {},
     "output_type": "execute_result"
    },
    {
     "data": {
      "image/png": "[encoded data removed]",
      "text/plain": [
       "<Figure size 432x288 with 1 Axes>"
      ]
     },
     "metadata": {
      "needs_background": "light"
     },
     "output_type": "display_data"
    }
   ],
   "source": [
    "#But disrupted by imputation\n",
    "x = 'BsmtQual'\n",
    "plt.scatter(housing[x].fillna(0), housing.SalePrice)\n",
    "plt.title(f'{x} vs. Sale Price')"
   ]
  },
  {
   "cell_type": "code",
   "execution_count": 222,
   "id": "bddab38f-f766-4914-bfb7-6ab0ef2152f1",
   "metadata": {},
   "outputs": [
    {
     "data": {
      "text/plain": [
       "<matplotlib.collections.PathCollection at 0x291ce8670>"
      ]
     },
     "execution_count": 222,
     "metadata": {},
     "output_type": "execute_result"
    },
    {
     "data": {
      "image/png": "[encoded data removed]",
      "text/plain": [
       "<Figure size 432x288 with 1 Axes>"
      ]
     },
     "metadata": {
      "needs_background": "light"
     },
     "output_type": "display_data"
    }
   ],
   "source": [
    "#Product appear better behaved except a few outliers\n",
    "plt.scatter(housing['BsmtQual'].fillna(0) * housing.filter(regex='Bsmt.+SF').sum(axis = 1).fillna(0),  housing['SalePrice'])"
   ]
  },
  {
   "cell_type": "code",
   "execution_count": 223,
   "id": "dfb00f9e-c676-44e0-9f10-5d35cfaf28c0",
   "metadata": {},
   "outputs": [],
   "source": [
    "#Replace with this new feature which captures related information\n",
    "housing['TotBsmtSF*Qual'] = housing['BsmtQual'].fillna(0) * housing.filter(regex='Bsmt.+SF').sum(axis = 1)\n",
    "housing.drop('BsmtQual', axis = 1, inplace = True)"
   ]
  },
  {
   "cell_type": "markdown",
   "id": "2ba0429b-1408-4bca-898a-b71a2d891962",
   "metadata": {},
   "source": [
    "### Garage year built"
   ]
  },
  {
   "cell_type": "code",
   "execution_count": 203,
   "id": "7f1bafe1-275f-4e16-8935-8760c8f1341a",
   "metadata": {},
   "outputs": [
    {
     "data": {
      "text/plain": [
       "<matplotlib.collections.PathCollection at 0x177832b80>"
      ]
     },
     "execution_count": 203,
     "metadata": {},
     "output_type": "execute_result"
    },
    {
     "data": {
      "image/png": "[encoded data removed]",
      "text/plain": [
       "<Figure size 432x288 with 1 Axes>"
      ]
     },
     "metadata": {
      "needs_background": "light"
     },
     "output_type": "display_data"
    }
   ],
   "source": [
    "#Does appear that garages older than a certain period do not sell above a certain rate\n",
    "plt.scatter(housing.GarageYrBlt, housing.SalePrice)"
   ]
  },
  {
   "cell_type": "code",
   "execution_count": 189,
   "id": "1f084e92-d785-4765-8bd2-1c450effee36",
   "metadata": {},
   "outputs": [
    {
     "data": {
      "text/plain": [
       "<matplotlib.collections.PathCollection at 0x177a50d00>"
      ]
     },
     "execution_count": 189,
     "metadata": {},
     "output_type": "execute_result"
    },
    {
     "data": {
      "image/png": "[encoded data removed]",
      "text/plain": [
       "<Figure size 432x288 with 1 Axes>"
      ]
     },
     "metadata": {
      "needs_background": "light"
     },
     "output_type": "display_data"
    }
   ],
   "source": [
    "#However, effect shrinks significantly when comparing it versus the year of remodeling, which is a better indicator\n",
    "plt.scatter(housing['GarageYrBlt'] - housing['YearRemodAdd'],  housing['SalePrice'])"
   ]
  },
  {
   "cell_type": "code",
   "execution_count": 224,
   "id": "a5f6cf83-2fe1-49e0-b568-7b5af29d2c17",
   "metadata": {},
   "outputs": [],
   "source": [
    "#drop column\n",
    "housing.drop('GarageYrBlt', axis = 1, inplace = True)"
   ]
  },
  {
   "cell_type": "code",
   "execution_count": 227,
   "id": "ab7d7051-daa8-4584-a0ba-545c474d0c04",
   "metadata": {},
   "outputs": [],
   "source": [
    "assert housing.isna().sum().sum()  == 0"
   ]
  },
  {
   "cell_type": "markdown",
   "id": "7f8b1e10-5717-4a2e-b7fc-de0eb8e186f6",
   "metadata": {},
   "source": [
    "## Check price distribution"
   ]
  },
  {
   "cell_type": "code",
   "execution_count": 250,
   "id": "28670593-ac15-4a66-b73d-eebf14f8e6f5",
   "metadata": {},
   "outputs": [
    {
     "data": {
      "text/plain": [
       "<AxesSubplot:>"
      ]
     },
     "execution_count": 250,
     "metadata": {},
     "output_type": "execute_result"
    },
    {
     "data": {
      "image/png": "[encoded data removed]",
      "text/plain": [
       "<Figure size 432x288 with 1 Axes>"
      ]
     },
     "metadata": {
      "needs_background": "light"
     },
     "output_type": "display_data"
    }
   ],
   "source": [
    "housing.SalePrice.hist()"
   ]
  },
  {
   "cell_type": "code",
   "execution_count": 252,
   "id": "c2f322a2-efff-4334-b766-d7936128050f",
   "metadata": {},
   "outputs": [
    {
     "data": {
      "text/plain": [
       "<AxesSubplot:>"
      ]
     },
     "execution_count": 252,
     "metadata": {},
     "output_type": "execute_result"
    },
    {
     "data": {
      "image/png": "[encoded data removed]",
      "text/plain": [
       "<Figure size 432x288 with 1 Axes>"
      ]
     },
     "metadata": {
      "needs_background": "light"
     },
     "output_type": "display_data"
    }
   ],
   "source": [
    "np.log(housing.SalePrice).hist()"
   ]
  },
  {
   "cell_type": "code",
   "execution_count": null,
   "id": "020c3e3b-c968-4fd5-aeae-5eddc4e65413",
   "metadata": {},
   "outputs": [],
   "source": []
  }
 ],
 "metadata": {
  "kernelspec": {
   "display_name": "Python 3 (ipykernel)",
   "language": "python",
   "name": "python3"
  },
  "language_info": {
   "codemirror_mode": {
    "name": "ipython",
    "version": 3
   },
   "file_extension": ".py",
   "mimetype": "text/x-python",
   "name": "python",
   "nbconvert_exporter": "python",
   "pygments_lexer": "ipython3",
   "version": "3.9.12"
  }
 },
 "nbformat": 4,
 "nbformat_minor": 5
}
