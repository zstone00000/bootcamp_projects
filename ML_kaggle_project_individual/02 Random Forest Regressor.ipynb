{
 "cells": [
  {
   "cell_type": "code",
   "execution_count": 1,
   "id": "d9f913ee-24c6-4a7d-b84d-f0480038dc35",
   "metadata": {},
   "outputs": [],
   "source": [
    "import pandas as pd\n",
    "import numpy as np\n",
    "import seaborn as sns\n",
    "from matplotlib import pyplot as plt\n",
    "import re\n",
    "\n",
    "from ames_preprocessing import restrict_col_list, get_compressed_ames, transformed_df\n",
    "from ames_model_helper import * "
   ]
  },
  {
   "cell_type": "code",
   "execution_count": 2,
   "id": "781c718f-b557-4f43-b5ac-3fdf280933d4",
   "metadata": {},
   "outputs": [],
   "source": [
    "from sklearn.compose import ColumnTransformer\n",
    "from sklearn.preprocessing import OrdinalEncoder\n",
    "from sklearn.ensemble import RandomForestRegressor\n",
    "from sklearn.model_selection import train_test_split, cross_val_score, GridSearchCV, RandomizedSearchCV"
   ]
  },
  {
   "cell_type": "markdown",
   "id": "f0e0e7c1-17d4-4388-b245-3b7a47ab4351",
   "metadata": {
    "tags": []
   },
   "source": [
    "# Import and clean"
   ]
  },
  {
   "cell_type": "code",
   "execution_count": 3,
   "id": "bf486b5b-6625-404c-9cd7-3c4cdb4beb04",
   "metadata": {},
   "outputs": [],
   "source": [
    "data = pd.read_csv('data/Ames_Housing_Price_Data.csv', index_col = 0).drop_duplicates().reset_index(drop = True)"
   ]
  },
  {
   "cell_type": "markdown",
   "id": "707d540d-7869-4b09-bcb1-6e88706eedd2",
   "metadata": {},
   "source": [
    "## Manual adjustments"
   ]
  },
  {
   "cell_type": "code",
   "execution_count": 4,
   "id": "6780045f-1b5c-487c-90bd-f5d379299db1",
   "metadata": {},
   "outputs": [],
   "source": [
    "housing = data.copy()\n",
    "\n",
    "#Do not appear to be legit garages; remove\n",
    "housing.at[531,'GarageType'] = np.nan\n",
    "housing.at[531,'GarageCars'] = np.nan\n",
    "housing.at[531,'GarageArea'] = 0\n",
    "housing.at[433, 'GarageType'] = np.nan\n",
    "\n",
    "#Fill using known basement finish type\n",
    "housing.at[2433, 'BsmtFinType2'] = housing.at[2433, 'BsmtFinType1']\n",
    "\n",
    "#Fill missing exposure & electrical with most frequently occuring\n",
    "housing.at[813, 'BsmtExposure'] = 'No'\n",
    "housing.at[1201, 'BsmtExposure'] = 'No'\n",
    "housing.at[2441, 'Electrical'] = 'SBrkr'\n",
    "\n",
    "#Fix remodel year which makes no sense\n",
    "housing.at[2033, 'YearRemodAdd'] = housing.at[2033, 'YearBuilt']"
   ]
  },
  {
   "cell_type": "markdown",
   "id": "be8f5b92-d5fd-40bb-86bc-ccecdc8ae421",
   "metadata": {
    "tags": []
   },
   "source": [
    "## Create cleaned/compressed dataset & feature lists"
   ]
  },
  {
   "cell_type": "code",
   "execution_count": 5,
   "id": "9455d849-ed27-43b7-b86d-6a6c821c47e3",
   "metadata": {},
   "outputs": [],
   "source": [
    "data_dict = get_compressed_ames(housing)"
   ]
  },
  {
   "cell_type": "code",
   "execution_count": 6,
   "id": "4f95511c-2556-48b6-aa85-aa66ffcfb012",
   "metadata": {},
   "outputs": [],
   "source": [
    "housing = data_dict['housing']\n",
    "areas = data_dict['areas']\n",
    "frontage = data_dict['frontage']\n",
    "miscval = data_dict['miscval']\n",
    "conditions = data_dict['conditions']\n",
    "inspect10pt = data_dict['inspect10pt']\n",
    "inspect5pt = data_dict['inspect5pt']\n",
    "inspections = data_dict['inspections']\n",
    "dates = data_dict['dates']\n",
    "counts = data_dict['counts']\n",
    "other_cats = data_dict['categoricals']"
   ]
  },
  {
   "cell_type": "code",
   "execution_count": 7,
   "id": "1b16f40b-194b-42af-8df0-0dc901c6de57",
   "metadata": {},
   "outputs": [],
   "source": [
    "housing['remod_age'] = housing['YrSold'] - housing['YearRemodAdd']\n",
    "housing.drop('YearRemodAdd', axis = 1, inplace = True)\n",
    "dates = restrict_col_list(dates, housing)\n",
    "dates.append('remod_age')"
   ]
  },
  {
   "cell_type": "code",
   "execution_count": 8,
   "id": "047fc1a5-742d-4777-9a53-8dd0123447b5",
   "metadata": {},
   "outputs": [],
   "source": [
    "categoricals = other_cats+conditions+inspections\n",
    "numeric = [x for x in housing.columns if x not in categoricals+['PID', 'SalePrice']]\n",
    "assert set(housing[numeric].select_dtypes(include=np.number).columns) == set(numeric)"
   ]
  },
  {
   "cell_type": "markdown",
   "id": "51ba38ce-cae9-4eac-8328-9007822ddccd",
   "metadata": {},
   "source": [
    "# Create training and test sets"
   ]
  },
  {
   "cell_type": "code",
   "execution_count": 9,
   "id": "3a715b85-8650-4627-a66d-02b8969a88f6",
   "metadata": {},
   "outputs": [],
   "source": [
    "features = housing.drop(['PID', 'SalePrice'], axis = 1)\n",
    "target = housing.SalePrice\n",
    "\n",
    "#Create train/test indices\n",
    "X_train, X_test, y_train, y_test = train_test_split(features, target, test_size = .3, random_state = 11)\n",
    "train_idx = X_train.index\n",
    "test_idx = X_test.index"
   ]
  },
  {
   "cell_type": "markdown",
   "id": "313f4ab2-48c8-4516-9f9c-434f156d14e3",
   "metadata": {
    "tags": []
   },
   "source": [
    "# Encoding"
   ]
  },
  {
   "cell_type": "code",
   "execution_count": 10,
   "id": "30232373-531e-4c76-b63f-85ac390cab81",
   "metadata": {},
   "outputs": [],
   "source": [
    "oe = ColumnTransformer([\n",
    "    ('pass', 'passthrough', numeric),\n",
    "    \n",
    "    #pass a list of columns which you want to be OE\n",
    "    ('oe', OrdinalEncoder(), categoricals)\n",
    "])\n",
    "\n",
    "features_encoded = pd.DataFrame(oe.fit_transform(features), columns = numeric + categoricals)\n",
    "assert (features_encoded[numeric] == features[numeric]).all().all()\n",
    "\n",
    "X_enc_train = features_encoded.loc[train_idx,:] \n",
    "X_enc_test = features_encoded.loc[test_idx,:] "
   ]
  },
  {
   "cell_type": "markdown",
   "id": "b827fd18-c883-498d-b46e-e3af89b3786a",
   "metadata": {},
   "source": [
    "# Baseline Random Forest Regressor"
   ]
  },
  {
   "cell_type": "code",
   "execution_count": 11,
   "id": "274234f6-4599-492a-8685-3161aaf7e54b",
   "metadata": {},
   "outputs": [
    {
     "name": "stdout",
     "output_type": "stream",
     "text": [
      "Train score: 0.9832832658100903\n",
      "Test score: 0.8849081844048697\n"
     ]
    }
   ],
   "source": [
    "rfr = RandomForestRegressor()\n",
    "rfr.fit(X_enc_train, y_train)\n",
    "print('Train score: %s' %rfr.score(X_enc_train,y_train))\n",
    "print('Test score: %s' %rfr.score(X_enc_test,y_test))"
   ]
  },
  {
   "cell_type": "markdown",
   "id": "cabd60cc-bb39-4d49-8c6d-e3e90d8fa4a0",
   "metadata": {},
   "source": [
    "Massive overfitting. Tune first."
   ]
  },
  {
   "cell_type": "markdown",
   "id": "10224e70-3f27-4f10-8de7-8280b225bdf7",
   "metadata": {},
   "source": [
    "## Tune"
   ]
  },
  {
   "cell_type": "markdown",
   "id": "524af3de-630c-445a-afed-f60f8fe19ee7",
   "metadata": {},
   "source": [
    "With bootstrapping"
   ]
  },
  {
   "cell_type": "code",
   "execution_count": 12,
   "id": "e9a52807-beac-467a-8b1e-4ffdfabae609",
   "metadata": {},
   "outputs": [],
   "source": [
    "param_grid = {'n_estimators': 2 ** np.arange(5,13,2), 'max_depth': 2 ** np.arange(1,7), 'max_features': np.linspace(0,1,6)[1:],\n",
    " 'bootstrap':[True], 'oob_score':[True], 'n_jobs': [-1], 'random_state':[11]}"
   ]
  },
  {
   "cell_type": "code",
   "execution_count": 16,
   "id": "6b4a31e5-d1b3-4e14-a6c1-96303694c15c",
   "metadata": {},
   "outputs": [
    {
     "name": "stderr",
     "output_type": "stream",
     "text": [
      "/Users/zachstone/miniforge3/envs/env_tf/lib/python3.9/site-packages/joblib/externals/loky/process_executor.py:702: UserWarning: A worker stopped while some jobs were given to the executor. This can be caused by a too short worker timeout or by a memory leak.\n",
      "  warnings.warn(\n"
     ]
    }
   ],
   "source": [
    "gsrfr = RandomizedSearchCV(RandomForestRegressor(), param_distributions = param_grid, n_jobs = -1, return_train_score = True, n_iter = 15)\n",
    "gsrfr.fit(X_enc_train,y_train)\n",
    "best_rfr = gsrfr.best_estimator_"
   ]
  },
  {
   "cell_type": "code",
   "execution_count": 17,
   "id": "96886f41-6d76-4282-be2a-4460b416a33a",
   "metadata": {},
   "outputs": [
    {
     "name": "stdout",
     "output_type": "stream",
     "text": [
      "The best CV score was 0.881068380669832 using parameters {'random_state': 11, 'oob_score': True, 'n_jobs': -1, 'n_estimators': 2048, 'max_features': 0.4, 'max_depth': 64, 'bootstrap': True}\n"
     ]
    }
   ],
   "source": [
    "print(f'The best CV score was {gsrfr.best_score_} using parameters {gsrfr.best_params_}')"
   ]
  },
  {
   "cell_type": "code",
   "execution_count": 18,
   "id": "303deba6-cfe6-45fa-8019-13340dbe781d",
   "metadata": {},
   "outputs": [
    {
     "name": "stdout",
     "output_type": "stream",
     "text": [
      "Train score: 0.9848431220495929\n",
      "Test score: 0.8883495045472805\n"
     ]
    }
   ],
   "source": [
    "best_rfr.fit(X_enc_train, y_train)\n",
    "print('Train score: %s' %best_rfr.score(X_enc_train,y_train))\n",
    "print('Test score: %s' %best_rfr.score(X_enc_test,y_test))"
   ]
  },
  {
   "cell_type": "code",
   "execution_count": null,
   "id": "ffffc1e7-d8e0-41f5-aec7-c33385098911",
   "metadata": {},
   "outputs": [],
   "source": [
    "#Very long training time\n",
    "# gsrfr = GridSearchCV(RandomForestRegressor(), param_grid = param_grid, n_jobs = -1, return_train_score = True)\n",
    "# gsrfr.fit(X_enc_train,y_train)\n",
    "# best_rfr = gsrfr.best_estimator_"
   ]
  },
  {
   "cell_type": "code",
   "execution_count": 49,
   "id": "0a95804a-4eef-49b1-9fc9-295a804d87ab",
   "metadata": {},
   "outputs": [
    {
     "name": "stdout",
     "output_type": "stream",
     "text": [
      "The best CV score was 0.883509373880855 using parameters {'bootstrap': True, 'max_depth': 16, 'max_features': 0.2, 'n_estimators': 512, 'n_jobs': -1, 'oob_score': True, 'random_state': 11}\n"
     ]
    }
   ],
   "source": [
    "# print(f'The best CV score was {gsrfr.best_score_} using parameters {gsrfr.best_params_}')"
   ]
  },
  {
   "cell_type": "markdown",
   "id": "924f117e-4d55-445d-b23d-2f4068614967",
   "metadata": {},
   "source": [
    "Grid search results:\n",
    "The best CV score was 0.883509373880855 using parameters {'bootstrap': True, 'max_depth': 16, 'max_features': 0.2, 'n_estimators': 512, 'n_jobs': -1, 'oob_score': True, 'random_state': 11}"
   ]
  },
  {
   "cell_type": "markdown",
   "id": "2fdcd21e-5712-4433-a9ea-8184afe81d52",
   "metadata": {},
   "source": [
    "Even after extensive tuning, continues to overfit.\"\""
   ]
  }
 ],
 "metadata": {
  "kernelspec": {
   "display_name": "Python 3 (ipykernel)",
   "language": "python",
   "name": "python3"
  },
  "language_info": {
   "codemirror_mode": {
    "name": "ipython",
    "version": 3
   },
   "file_extension": ".py",
   "mimetype": "text/x-python",
   "name": "python",
   "nbconvert_exporter": "python",
   "pygments_lexer": "ipython3",
   "version": "3.9.12"
  }
 },
 "nbformat": 4,
 "nbformat_minor": 5
}
