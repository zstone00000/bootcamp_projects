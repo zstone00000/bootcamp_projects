{
 "cells": [
  {
   "cell_type": "code",
   "execution_count": 1,
   "id": "f7953346-34ac-45ce-9759-c0a0e7fef4a3",
   "metadata": {},
   "outputs": [],
   "source": [
    "import pandas as pd\n",
    "import numpy as np\n",
    "import seaborn as sns\n",
    "from matplotlib import pyplot as plt\n",
    "import re\n",
    "\n",
    "from ames_preprocessing import restrict_col_list, get_compressed_ames, transformed_df\n",
    "from ames_model_helper import * "
   ]
  },
  {
   "cell_type": "code",
   "execution_count": 2,
   "id": "7896c180-ca21-4c74-aa79-81406402e587",
   "metadata": {},
   "outputs": [],
   "source": [
    "from sklearn.compose import ColumnTransformer\n",
    "from sklearn.preprocessing import OrdinalEncoder\n",
    "from sklearn.ensemble import GradientBoostingRegressor\n",
    "from sklearn.model_selection import train_test_split, cross_val_score, GridSearchCV, RandomizedSearchCV"
   ]
  },
  {
   "cell_type": "markdown",
   "id": "6f79a054-0a6b-4d9e-980b-53d7689bf6e8",
   "metadata": {
    "tags": []
   },
   "source": [
    "# Import and clean"
   ]
  },
  {
   "cell_type": "code",
   "execution_count": 3,
   "id": "9acf1d63-b6e0-41fd-8ab5-52f3a3733f3a",
   "metadata": {},
   "outputs": [],
   "source": [
    "data = pd.read_csv('data/Ames_Housing_Price_Data.csv', index_col = 0).drop_duplicates().reset_index(drop = True)"
   ]
  },
  {
   "cell_type": "markdown",
   "id": "e7ba78c6-ea6f-4976-902d-fc7a24a2dfee",
   "metadata": {},
   "source": [
    "## Manual adjustments"
   ]
  },
  {
   "cell_type": "code",
   "execution_count": 4,
   "id": "3f5112b5-2933-4ead-9aa9-83d4d838e898",
   "metadata": {},
   "outputs": [],
   "source": [
    "housing = data.copy()\n",
    "\n",
    "#Do not appear to be legit garages; remove\n",
    "housing.at[531,'GarageType'] = np.nan\n",
    "housing.at[531,'GarageCars'] = np.nan\n",
    "housing.at[531,'GarageArea'] = 0\n",
    "housing.at[433, 'GarageType'] = np.nan\n",
    "\n",
    "#Fill using known basement finish type\n",
    "housing.at[2433, 'BsmtFinType2'] = housing.at[2433, 'BsmtFinType1']\n",
    "\n",
    "#Fill missing exposure & electrical with most frequently occuring\n",
    "housing.at[813, 'BsmtExposure'] = 'No'\n",
    "housing.at[1201, 'BsmtExposure'] = 'No'\n",
    "housing.at[2441, 'Electrical'] = 'SBrkr'\n",
    "\n",
    "#Fix remodel year which makes no sense\n",
    "housing.at[2033, 'YearRemodAdd'] = housing.at[2033, 'YearBuilt']"
   ]
  },
  {
   "cell_type": "markdown",
   "id": "c3d142c5-6262-4ab5-9931-cc05a5134c0a",
   "metadata": {
    "tags": []
   },
   "source": [
    "## Create cleaned/compressed dataset & feature lists"
   ]
  },
  {
   "cell_type": "code",
   "execution_count": 5,
   "id": "7828c97c-48fa-4f15-83e9-e4a5aa5b70d0",
   "metadata": {},
   "outputs": [],
   "source": [
    "data_dict = get_compressed_ames(housing)"
   ]
  },
  {
   "cell_type": "code",
   "execution_count": 6,
   "id": "91d2e7ea-1ba2-46d4-8a3c-8f3e1bbf8187",
   "metadata": {},
   "outputs": [],
   "source": [
    "housing = data_dict['housing']\n",
    "areas = data_dict['areas']\n",
    "frontage = data_dict['frontage']\n",
    "miscval = data_dict['miscval']\n",
    "conditions = data_dict['conditions']\n",
    "inspect10pt = data_dict['inspect10pt']\n",
    "inspect5pt = data_dict['inspect5pt']\n",
    "inspections = data_dict['inspections']\n",
    "dates = data_dict['dates']\n",
    "counts = data_dict['counts']\n",
    "other_cats = data_dict['categoricals']"
   ]
  },
  {
   "cell_type": "code",
   "execution_count": 7,
   "id": "c180d18a-c29c-4403-85eb-fe0757d70acb",
   "metadata": {},
   "outputs": [],
   "source": [
    "housing['remod_age'] = housing['YrSold'] - housing['YearRemodAdd']\n",
    "housing.drop('YearRemodAdd', axis = 1, inplace = True)\n",
    "dates = restrict_col_list(dates, housing)\n",
    "dates.append('remod_age')"
   ]
  },
  {
   "cell_type": "code",
   "execution_count": 8,
   "id": "d451f938-b6f0-4729-b338-0e7dc59de980",
   "metadata": {},
   "outputs": [],
   "source": [
    "categoricals = other_cats+conditions+inspections\n",
    "numeric = [x for x in housing.columns if x not in categoricals+['PID', 'SalePrice']]\n",
    "assert set(housing[numeric].select_dtypes(include=np.number).columns) == set(numeric)"
   ]
  },
  {
   "cell_type": "markdown",
   "id": "89a02238-f1c4-41e5-a987-8cf97dfcf32f",
   "metadata": {},
   "source": [
    "# Create training and test sets"
   ]
  },
  {
   "cell_type": "code",
   "execution_count": 9,
   "id": "9577c75c-81e3-48b8-8333-0ce0d88b5aad",
   "metadata": {},
   "outputs": [],
   "source": [
    "features = housing.drop(['PID', 'SalePrice'], axis = 1)\n",
    "target = housing.SalePrice\n",
    "\n",
    "#Create train/test indices\n",
    "X_train, X_test, y_train, y_test = train_test_split(features, target, test_size = .3, random_state = 11)\n",
    "train_idx = X_train.index\n",
    "test_idx = X_test.index"
   ]
  },
  {
   "cell_type": "markdown",
   "id": "3651db3f-5f6d-4990-8331-3dcc1dd421d1",
   "metadata": {
    "tags": []
   },
   "source": [
    "# Encoding"
   ]
  },
  {
   "cell_type": "code",
   "execution_count": 10,
   "id": "881b7280-f6f2-45f8-bfb1-eb8880a9f613",
   "metadata": {},
   "outputs": [],
   "source": [
    "oe = ColumnTransformer([\n",
    "    ('pass', 'passthrough', numeric),\n",
    "    \n",
    "    #pass a list of columns which you want to be OE\n",
    "    ('oe', OrdinalEncoder(), categoricals)\n",
    "])\n",
    "\n",
    "features_encoded = pd.DataFrame(oe.fit_transform(features), columns = numeric + categoricals)\n",
    "assert (features_encoded[numeric] == features[numeric]).all().all()\n",
    "\n",
    "X_enc_train = features_encoded.loc[train_idx,:] \n",
    "X_enc_test = features_encoded.loc[test_idx,:] "
   ]
  },
  {
   "cell_type": "markdown",
   "id": "db8c908e-a8be-40ab-9c7c-08b9518dcade",
   "metadata": {},
   "source": [
    "# Gradient Boosting Regressor"
   ]
  },
  {
   "cell_type": "code",
   "execution_count": 11,
   "id": "67933504-40f8-4f67-9900-99b98ef74237",
   "metadata": {},
   "outputs": [
    {
     "name": "stdout",
     "output_type": "stream",
     "text": [
      "Train score: 0.9620137895593565\n",
      "Test score: 0.9171757869654605\n"
     ]
    }
   ],
   "source": [
    "gbr = GradientBoostingRegressor()\n",
    "gbr.fit(X_enc_train, y_train)\n",
    "print('Train score: %s' %gbr.score(X_enc_train,y_train))\n",
    "print('Test score: %s' %gbr.score(X_enc_test,y_test))"
   ]
  },
  {
   "cell_type": "markdown",
   "id": "b9c591e2-00b1-47ae-8580-d174d1691250",
   "metadata": {},
   "source": [
    "Quite good out of the box, but overfit. Tune."
   ]
  },
  {
   "cell_type": "markdown",
   "id": "567c9ba9-639b-429d-8e16-ffa398fef843",
   "metadata": {},
   "source": [
    "## Tuning"
   ]
  },
  {
   "cell_type": "code",
   "execution_count": 12,
   "id": "63191271-8bae-484b-8131-76c14b87c9ea",
   "metadata": {},
   "outputs": [],
   "source": [
    "# param_grid = {'n_estimators': 5 ** np.arange(3,5), 'max_depth': 2 ** np.arange(2,5), \n",
    "#               'random_state':[11], 'max_features':['sqrt']}\n",
    "# gsgbr = GridSearchCV(GradientBoostingRegressor(), param_grid = param_grid, n_jobs = -1)\n",
    "# gsgbr.fit(X_enc_train,y_train)\n",
    "# best_gbr = gsgbr.best_estimator_"
   ]
  },
  {
   "cell_type": "code",
   "execution_count": 13,
   "id": "0a23f8cc-7864-4853-9772-f074f8269412",
   "metadata": {},
   "outputs": [],
   "source": [
    "# print(f'The best CV score was {gsgbr.best_score_} using parameters {gsgbr.best_params_}')"
   ]
  },
  {
   "cell_type": "code",
   "execution_count": 14,
   "id": "94674d56-ab16-47cd-928e-4021cc554901",
   "metadata": {},
   "outputs": [],
   "source": [
    "# param_grid = {'n_estimators': np.arange(200,1000,100), 'max_depth': np.arange(4,8), \n",
    "#               'random_state':[11], 'max_features':['sqrt']}\n",
    "# gsgbr = GridSearchCV(GradientBoostingRegressor(), param_grid = param_grid, n_jobs = -1)\n",
    "# gsgbr.fit(X_enc_train,y_train)\n",
    "# best_gbr = gsgbr.best_estimator_"
   ]
  },
  {
   "cell_type": "code",
   "execution_count": 15,
   "id": "0eeba1a9-0a24-47c2-b2dc-2fd57d888f4b",
   "metadata": {},
   "outputs": [],
   "source": [
    "# print(f'The best CV score was {gsgbr.best_score_} using parameters {gsgbr.best_params_}')"
   ]
  },
  {
   "cell_type": "code",
   "execution_count": 16,
   "id": "c4f2ad2d-44bb-42da-bdd2-834f13cd5b2e",
   "metadata": {},
   "outputs": [],
   "source": [
    "param_grid = {'n_estimators': np.arange(900,1000,10), 'max_depth': [4], \n",
    "              'random_state':[11], 'max_features':['sqrt']}\n",
    "gsgbr = GridSearchCV(GradientBoostingRegressor(), param_grid = param_grid, n_jobs = -1)\n",
    "gsgbr.fit(X_enc_train,y_train)\n",
    "best_gbr = gsgbr.best_estimator_"
   ]
  },
  {
   "cell_type": "code",
   "execution_count": 17,
   "id": "db4ca030-b943-4a39-a0eb-e409baa6b493",
   "metadata": {},
   "outputs": [
    {
     "name": "stdout",
     "output_type": "stream",
     "text": [
      "The best CV score was 0.9004312000934064 using parameters {'max_depth': 4, 'max_features': 'sqrt', 'n_estimators': 900, 'random_state': 11}\n"
     ]
    }
   ],
   "source": [
    "print(f'The best CV score was {gsgbr.best_score_} using parameters {gsgbr.best_params_}')"
   ]
  },
  {
   "cell_type": "markdown",
   "id": "24def2d0-d006-4824-9c18-a2430d95619c",
   "metadata": {},
   "source": [
    "The best CV score was 0.9004312000934064 using parameters {'max_depth': 4, 'max_features': 'sqrt', 'n_estimators': 900, 'random_state': 11}"
   ]
  },
  {
   "cell_type": "markdown",
   "id": "e835ad00-889a-4491-81b0-6282d5ae7d3f",
   "metadata": {},
   "source": [
    "# Evaluate Model"
   ]
  },
  {
   "cell_type": "code",
   "execution_count": 18,
   "id": "744d80f3-48bd-4b69-9e53-0000191a3b46",
   "metadata": {},
   "outputs": [
    {
     "name": "stdout",
     "output_type": "stream",
     "text": [
      "Train score: 0.9985375100671453\n",
      "Test score: 0.9161343955934337\n"
     ]
    }
   ],
   "source": [
    "best_gbr.fit(X_enc_train, y_train)\n",
    "print('Train score: %s' %best_gbr.score(X_enc_train,y_train))\n",
    "print('Test score: %s' %best_gbr.score(X_enc_test,y_test))"
   ]
  },
  {
   "cell_type": "markdown",
   "id": "aacae163-dfe7-480e-a9ae-8ecda0ea564c",
   "metadata": {},
   "source": [
    "Tuning exacerbated overfitting problem. Was not fixed by tuning min_samples_split."
   ]
  },
  {
   "cell_type": "code",
   "execution_count": null,
   "id": "30ca5e1c-4d77-4f16-8c0f-52f1ff6e2656",
   "metadata": {},
   "outputs": [],
   "source": []
  }
 ],
 "metadata": {
  "kernelspec": {
   "display_name": "Python 3 (ipykernel)",
   "language": "python",
   "name": "python3"
  },
  "language_info": {
   "codemirror_mode": {
    "name": "ipython",
    "version": 3
   },
   "file_extension": ".py",
   "mimetype": "text/x-python",
   "name": "python",
   "nbconvert_exporter": "python",
   "pygments_lexer": "ipython3",
   "version": "3.9.12"
  }
 },
 "nbformat": 4,
 "nbformat_minor": 5
}
